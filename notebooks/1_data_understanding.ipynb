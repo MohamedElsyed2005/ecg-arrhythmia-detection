{
 "cells": [
  {
   "cell_type": "markdown",
   "id": "97efeef2",
   "metadata": {},
   "source": [
    "# 🩺 ECG Arrhythmia Dataset Overview\n",
    "\n",
    "This dataset contains heartbeat-level features extracted from ECG signals across multiple arrhythmia databases.  \n",
    "Each row represents two consecutive heartbeats (`Beat 0` and `Beat 1`) from a specific ECG record.\n",
    "\n",
    "The goal is to classify the type of heartbeat (e.g., normal, ventricular, supraventricular) using timing, peak positions, and morphology features derived from the ECG signal.\n",
    "\n",
    "### 📌 Dataset Highlights:\n",
    "- **Total columns:** 44\n",
    "- **Each sample includes:**\n",
    "  - `record`: Source ECG file or patient ID\n",
    "  - `type`: Label of the current beat (e.g., N, V, A, etc.)\n",
    "  - **Beat 0 & Beat 1 features:**\n",
    "    - RR intervals before and after the beat\n",
    "    - P, Q, R, S, T peak locations\n",
    "    - PQ, QRS, QT, ST intervals\n",
    "    - QRS morphology (one-hot encoded)\n",
    "\n",
    "This structured format makes the dataset suitable for traditional machine learning models such as Random Forest, SVM, or XGBoost.\n",
    "\n",
    "> 🔍 Note: Understanding ECG physiology (like what QRS or QT means) helps interpret these features better, but it's not mandatory to start experimenting with classification models."
   ]
  },
  {
   "cell_type": "code",
   "execution_count": 2,
   "id": "57b2f92d",
   "metadata": {},
   "outputs": [],
   "source": [
    "import pandas as pd \n",
    "import numpy as np \n",
    "import matplotlib.pyplot as plt \n",
    "import seaborn as sns"
   ]
  },
  {
   "cell_type": "code",
   "execution_count": 3,
   "id": "bdf86cb9",
   "metadata": {},
   "outputs": [
    {
     "data": {
      "application/vnd.microsoft.datawrangler.viewer.v0+json": {
       "columns": [
        {
         "name": "index",
         "rawType": "int64",
         "type": "integer"
        },
        {
         "name": "record",
         "rawType": "int64",
         "type": "integer"
        },
        {
         "name": "type",
         "rawType": "object",
         "type": "string"
        },
        {
         "name": "0_pre-RR",
         "rawType": "int64",
         "type": "integer"
        },
        {
         "name": "0_post-RR",
         "rawType": "float64",
         "type": "float"
        },
        {
         "name": "0_pPeak",
         "rawType": "float64",
         "type": "float"
        },
        {
         "name": "0_tPeak",
         "rawType": "float64",
         "type": "float"
        },
        {
         "name": "0_rPeak",
         "rawType": "float64",
         "type": "float"
        },
        {
         "name": "0_sPeak",
         "rawType": "float64",
         "type": "float"
        },
        {
         "name": "0_qPeak",
         "rawType": "float64",
         "type": "float"
        },
        {
         "name": "0_qrs_interval",
         "rawType": "int64",
         "type": "integer"
        },
        {
         "name": "0_pq_interval",
         "rawType": "int64",
         "type": "integer"
        },
        {
         "name": "0_qt_interval",
         "rawType": "int64",
         "type": "integer"
        },
        {
         "name": "0_st_interval",
         "rawType": "int64",
         "type": "integer"
        },
        {
         "name": "0_qrs_morph0",
         "rawType": "float64",
         "type": "float"
        },
        {
         "name": "0_qrs_morph1",
         "rawType": "float64",
         "type": "float"
        },
        {
         "name": "0_qrs_morph2",
         "rawType": "float64",
         "type": "float"
        },
        {
         "name": "0_qrs_morph3",
         "rawType": "float64",
         "type": "float"
        },
        {
         "name": "0_qrs_morph4",
         "rawType": "float64",
         "type": "float"
        },
        {
         "name": "1_pre-RR",
         "rawType": "int64",
         "type": "integer"
        },
        {
         "name": "1_post-RR",
         "rawType": "float64",
         "type": "float"
        },
        {
         "name": "1_pPeak",
         "rawType": "float64",
         "type": "float"
        },
        {
         "name": "1_tPeak",
         "rawType": "float64",
         "type": "float"
        },
        {
         "name": "1_rPeak",
         "rawType": "float64",
         "type": "float"
        },
        {
         "name": "1_sPeak",
         "rawType": "float64",
         "type": "float"
        },
        {
         "name": "1_qPeak",
         "rawType": "float64",
         "type": "float"
        },
        {
         "name": "1_qrs_interval",
         "rawType": "int64",
         "type": "integer"
        },
        {
         "name": "1_pq_interval",
         "rawType": "int64",
         "type": "integer"
        },
        {
         "name": "1_qt_interval",
         "rawType": "int64",
         "type": "integer"
        },
        {
         "name": "1_st_interval",
         "rawType": "int64",
         "type": "integer"
        },
        {
         "name": "1_qrs_morph0",
         "rawType": "float64",
         "type": "float"
        },
        {
         "name": "1_qrs_morph1",
         "rawType": "float64",
         "type": "float"
        },
        {
         "name": "1_qrs_morph2",
         "rawType": "float64",
         "type": "float"
        },
        {
         "name": "1_qrs_morph3",
         "rawType": "float64",
         "type": "float"
        },
        {
         "name": "1_qrs_morph4",
         "rawType": "float64",
         "type": "float"
        }
       ],
       "ref": "76cb175a-3a12-4f4f-897d-004876de8f6e",
       "rows": [
        [
         "0",
         "101",
         "N",
         "76",
         "313.0",
         "0.0743471200228708",
         "-0.1605479512909912",
         "1.0364014078032489",
         "-0.2856624960264329",
         "-0.0268236490066723",
         "41",
         "18",
         "66",
         "7",
         "-0.0268236490066723",
         "-0.0012361169818203",
         "0.0166585106427726",
         "0.1432411711717847",
         "0.996287443844827",
         "76",
         "313.0",
         "0.0383095070202262",
         "0.0257843249540982",
         "0.0259303193666138",
         "0.0252707796359259",
         "0.0259303193666138",
         "2",
         "18",
         "22",
         "2",
         "0.0259303193666138",
         "0.0259303193666138",
         "0.0259303193666138",
         "0.0254361801281231",
         "0.0254361801281231"
        ],
        [
         "1",
         "101",
         "N",
         "313",
         "315.0",
         "-0.0520788928579333",
         "-0.2647842920445563",
         "0.8865969132633993",
         "-0.3662977046371369",
         "-0.0597104053552399",
         "21",
         "4",
         "33",
         "8",
         "-0.0597104053552399",
         "0.1040304310783147",
         "0.6918910779780433",
         "0.8055492370403278",
         "0.0840685446123947",
         "313",
         "315.0",
         "0.0142636393375764",
         "0.0454580432804954",
         "0.0325727015240111",
         "-0.1045029531014621",
         "-0.0420085293401264",
         "26",
         "27",
         "62",
         "9",
         "-0.0420085293401264",
         "-0.029497609296578",
         "0.0050119638526842",
         "0.0308915445461614",
         "0.0029856006295107"
        ],
        [
         "2",
         "101",
         "N",
         "315",
         "321.0",
         "-0.0621513440809614",
         "-0.2969825451600668",
         "0.9918590560568558",
         "-0.410306180553059",
         "-0.0656863278763177",
         "22",
         "3",
         "32",
         "7",
         "-0.0656863278763177",
         "0.0514592399077539",
         "0.6304189612881775",
         "0.8907935853292844",
         "0.0912584437242184",
         "315",
         "321.0",
         "0.0213113594631295",
         "0.0082455161653336",
         "0.0095284734609748",
         "0.0082303305375344",
         "0.0095284734609748",
         "3",
         "8",
         "12",
         "1",
         "0.0095284734609748",
         "0.0095284734609748",
         "0.0087855532848716",
         "0.0087855532848716",
         "0.0083683934328459"
        ],
        [
         "3",
         "101",
         "N",
         "321",
         "336.0",
         "-0.0633219328977776",
         "-0.281386236515031",
         "1.0349028850176163",
         "-0.4038801436031478",
         "-0.0717497630896522",
         "22",
         "4",
         "33",
         "7",
         "-0.0717497630896522",
         "0.0593760792830542",
         "0.6528135003842125",
         "0.9484903404067104",
         "0.1366023612509025",
         "321",
         "336.0",
         "-0.0006649124404561",
         "-0.0097247740412256",
         "-0.0102034774359276",
         "-0.0102034774359276",
         "-0.0205355880726485",
         "6",
         "9",
         "16",
         "1",
         "-0.0205355880726485",
         "-0.0202569780497143",
         "-0.0189654950933306",
         "-0.016967876475151",
         "-0.0145551717140058"
        ],
        [
         "4",
         "101",
         "N",
         "336",
         "344.0",
         "-0.0629149166764767",
         "1.046913654954089",
         "1.0464080249805554",
         "1.0464080249805554",
         "-0.0746388104539554",
         "11",
         "4",
         "16",
         "1",
         "-0.0746388104539554",
         "-0.0545160729653603",
         "0.0528231438101018",
         "0.2960381990303601",
         "0.6499895073501701",
         "336",
         "344.0",
         "0.0245587842844954",
         "0.0169247138587669",
         "0.0160525015522927",
         "-0.0999180278647066",
         "0.0160525015522927",
         "16",
         "5",
         "31",
         "10",
         "0.0160525015522927",
         "0.006741550992719",
         "0.0027815264214062",
         "-0.0077980898730233",
         "-0.0511549676624373"
        ]
       ],
       "shape": {
        "columns": 34,
        "rows": 5
       }
      },
      "text/html": [
       "<div>\n",
       "<style scoped>\n",
       "    .dataframe tbody tr th:only-of-type {\n",
       "        vertical-align: middle;\n",
       "    }\n",
       "\n",
       "    .dataframe tbody tr th {\n",
       "        vertical-align: top;\n",
       "    }\n",
       "\n",
       "    .dataframe thead th {\n",
       "        text-align: right;\n",
       "    }\n",
       "</style>\n",
       "<table border=\"1\" class=\"dataframe\">\n",
       "  <thead>\n",
       "    <tr style=\"text-align: right;\">\n",
       "      <th></th>\n",
       "      <th>record</th>\n",
       "      <th>type</th>\n",
       "      <th>0_pre-RR</th>\n",
       "      <th>0_post-RR</th>\n",
       "      <th>0_pPeak</th>\n",
       "      <th>0_tPeak</th>\n",
       "      <th>0_rPeak</th>\n",
       "      <th>0_sPeak</th>\n",
       "      <th>0_qPeak</th>\n",
       "      <th>0_qrs_interval</th>\n",
       "      <th>...</th>\n",
       "      <th>1_qPeak</th>\n",
       "      <th>1_qrs_interval</th>\n",
       "      <th>1_pq_interval</th>\n",
       "      <th>1_qt_interval</th>\n",
       "      <th>1_st_interval</th>\n",
       "      <th>1_qrs_morph0</th>\n",
       "      <th>1_qrs_morph1</th>\n",
       "      <th>1_qrs_morph2</th>\n",
       "      <th>1_qrs_morph3</th>\n",
       "      <th>1_qrs_morph4</th>\n",
       "    </tr>\n",
       "  </thead>\n",
       "  <tbody>\n",
       "    <tr>\n",
       "      <th>0</th>\n",
       "      <td>101</td>\n",
       "      <td>N</td>\n",
       "      <td>76</td>\n",
       "      <td>313.0</td>\n",
       "      <td>0.074347</td>\n",
       "      <td>-0.160548</td>\n",
       "      <td>1.036401</td>\n",
       "      <td>-0.285662</td>\n",
       "      <td>-0.026824</td>\n",
       "      <td>41</td>\n",
       "      <td>...</td>\n",
       "      <td>0.025930</td>\n",
       "      <td>2</td>\n",
       "      <td>18</td>\n",
       "      <td>22</td>\n",
       "      <td>2</td>\n",
       "      <td>0.025930</td>\n",
       "      <td>0.025930</td>\n",
       "      <td>0.025930</td>\n",
       "      <td>0.025436</td>\n",
       "      <td>0.025436</td>\n",
       "    </tr>\n",
       "    <tr>\n",
       "      <th>1</th>\n",
       "      <td>101</td>\n",
       "      <td>N</td>\n",
       "      <td>313</td>\n",
       "      <td>315.0</td>\n",
       "      <td>-0.052079</td>\n",
       "      <td>-0.264784</td>\n",
       "      <td>0.886597</td>\n",
       "      <td>-0.366298</td>\n",
       "      <td>-0.059710</td>\n",
       "      <td>21</td>\n",
       "      <td>...</td>\n",
       "      <td>-0.042009</td>\n",
       "      <td>26</td>\n",
       "      <td>27</td>\n",
       "      <td>62</td>\n",
       "      <td>9</td>\n",
       "      <td>-0.042009</td>\n",
       "      <td>-0.029498</td>\n",
       "      <td>0.005012</td>\n",
       "      <td>0.030892</td>\n",
       "      <td>0.002986</td>\n",
       "    </tr>\n",
       "    <tr>\n",
       "      <th>2</th>\n",
       "      <td>101</td>\n",
       "      <td>N</td>\n",
       "      <td>315</td>\n",
       "      <td>321.0</td>\n",
       "      <td>-0.062151</td>\n",
       "      <td>-0.296983</td>\n",
       "      <td>0.991859</td>\n",
       "      <td>-0.410306</td>\n",
       "      <td>-0.065686</td>\n",
       "      <td>22</td>\n",
       "      <td>...</td>\n",
       "      <td>0.009528</td>\n",
       "      <td>3</td>\n",
       "      <td>8</td>\n",
       "      <td>12</td>\n",
       "      <td>1</td>\n",
       "      <td>0.009528</td>\n",
       "      <td>0.009528</td>\n",
       "      <td>0.008786</td>\n",
       "      <td>0.008786</td>\n",
       "      <td>0.008368</td>\n",
       "    </tr>\n",
       "    <tr>\n",
       "      <th>3</th>\n",
       "      <td>101</td>\n",
       "      <td>N</td>\n",
       "      <td>321</td>\n",
       "      <td>336.0</td>\n",
       "      <td>-0.063322</td>\n",
       "      <td>-0.281386</td>\n",
       "      <td>1.034903</td>\n",
       "      <td>-0.403880</td>\n",
       "      <td>-0.071750</td>\n",
       "      <td>22</td>\n",
       "      <td>...</td>\n",
       "      <td>-0.020536</td>\n",
       "      <td>6</td>\n",
       "      <td>9</td>\n",
       "      <td>16</td>\n",
       "      <td>1</td>\n",
       "      <td>-0.020536</td>\n",
       "      <td>-0.020257</td>\n",
       "      <td>-0.018965</td>\n",
       "      <td>-0.016968</td>\n",
       "      <td>-0.014555</td>\n",
       "    </tr>\n",
       "    <tr>\n",
       "      <th>4</th>\n",
       "      <td>101</td>\n",
       "      <td>N</td>\n",
       "      <td>336</td>\n",
       "      <td>344.0</td>\n",
       "      <td>-0.062915</td>\n",
       "      <td>1.046914</td>\n",
       "      <td>1.046408</td>\n",
       "      <td>1.046408</td>\n",
       "      <td>-0.074639</td>\n",
       "      <td>11</td>\n",
       "      <td>...</td>\n",
       "      <td>0.016053</td>\n",
       "      <td>16</td>\n",
       "      <td>5</td>\n",
       "      <td>31</td>\n",
       "      <td>10</td>\n",
       "      <td>0.016053</td>\n",
       "      <td>0.006742</td>\n",
       "      <td>0.002782</td>\n",
       "      <td>-0.007798</td>\n",
       "      <td>-0.051155</td>\n",
       "    </tr>\n",
       "  </tbody>\n",
       "</table>\n",
       "<p>5 rows × 34 columns</p>\n",
       "</div>"
      ],
      "text/plain": [
       "   record type  0_pre-RR  0_post-RR   0_pPeak   0_tPeak   0_rPeak   0_sPeak  \\\n",
       "0     101    N        76      313.0  0.074347 -0.160548  1.036401 -0.285662   \n",
       "1     101    N       313      315.0 -0.052079 -0.264784  0.886597 -0.366298   \n",
       "2     101    N       315      321.0 -0.062151 -0.296983  0.991859 -0.410306   \n",
       "3     101    N       321      336.0 -0.063322 -0.281386  1.034903 -0.403880   \n",
       "4     101    N       336      344.0 -0.062915  1.046914  1.046408  1.046408   \n",
       "\n",
       "    0_qPeak  0_qrs_interval  ...   1_qPeak  1_qrs_interval  1_pq_interval  \\\n",
       "0 -0.026824              41  ...  0.025930               2             18   \n",
       "1 -0.059710              21  ... -0.042009              26             27   \n",
       "2 -0.065686              22  ...  0.009528               3              8   \n",
       "3 -0.071750              22  ... -0.020536               6              9   \n",
       "4 -0.074639              11  ...  0.016053              16              5   \n",
       "\n",
       "   1_qt_interval  1_st_interval  1_qrs_morph0  1_qrs_morph1  1_qrs_morph2  \\\n",
       "0             22              2      0.025930      0.025930      0.025930   \n",
       "1             62              9     -0.042009     -0.029498      0.005012   \n",
       "2             12              1      0.009528      0.009528      0.008786   \n",
       "3             16              1     -0.020536     -0.020257     -0.018965   \n",
       "4             31             10      0.016053      0.006742      0.002782   \n",
       "\n",
       "   1_qrs_morph3  1_qrs_morph4  \n",
       "0      0.025436      0.025436  \n",
       "1      0.030892      0.002986  \n",
       "2      0.008786      0.008368  \n",
       "3     -0.016968     -0.014555  \n",
       "4     -0.007798     -0.051155  \n",
       "\n",
       "[5 rows x 34 columns]"
      ]
     },
     "execution_count": 3,
     "metadata": {},
     "output_type": "execute_result"
    }
   ],
   "source": [
    "data =  pd.read_csv(r\"../data/MIT-BIH Arrhythmia Database.csv\")\n",
    "data.head()"
   ]
  },
  {
   "cell_type": "code",
   "execution_count": 10,
   "id": "236ea1a6",
   "metadata": {},
   "outputs": [
    {
     "data": {
      "text/plain": [
       "(100689, 34)"
      ]
     },
     "execution_count": 10,
     "metadata": {},
     "output_type": "execute_result"
    }
   ],
   "source": [
    "data.shape"
   ]
  },
  {
   "cell_type": "code",
   "execution_count": 5,
   "id": "612587ff",
   "metadata": {},
   "outputs": [
    {
     "name": "stdout",
     "output_type": "stream",
     "text": [
      "<class 'pandas.core.frame.DataFrame'>\n",
      "RangeIndex: 100689 entries, 0 to 100688\n",
      "Data columns (total 34 columns):\n",
      " #   Column          Non-Null Count   Dtype  \n",
      "---  ------          --------------   -----  \n",
      " 0   record          100689 non-null  int64  \n",
      " 1   type            100689 non-null  object \n",
      " 2   0_pre-RR        100689 non-null  int64  \n",
      " 3   0_post-RR       100689 non-null  float64\n",
      " 4   0_pPeak         100689 non-null  float64\n",
      " 5   0_tPeak         100689 non-null  float64\n",
      " 6   0_rPeak         100689 non-null  float64\n",
      " 7   0_sPeak         100689 non-null  float64\n",
      " 8   0_qPeak         100689 non-null  float64\n",
      " 9   0_qrs_interval  100689 non-null  int64  \n",
      " 10  0_pq_interval   100689 non-null  int64  \n",
      " 11  0_qt_interval   100689 non-null  int64  \n",
      " 12  0_st_interval   100689 non-null  int64  \n",
      " 13  0_qrs_morph0    100689 non-null  float64\n",
      " 14  0_qrs_morph1    100689 non-null  float64\n",
      " 15  0_qrs_morph2    100689 non-null  float64\n",
      " 16  0_qrs_morph3    100689 non-null  float64\n",
      " 17  0_qrs_morph4    100689 non-null  float64\n",
      " 18  1_pre-RR        100689 non-null  int64  \n",
      " 19  1_post-RR       100689 non-null  float64\n",
      " 20  1_pPeak         100689 non-null  float64\n",
      " 21  1_tPeak         100689 non-null  float64\n",
      " 22  1_rPeak         100689 non-null  float64\n",
      " 23  1_sPeak         100689 non-null  float64\n",
      " 24  1_qPeak         100689 non-null  float64\n",
      " 25  1_qrs_interval  100689 non-null  int64  \n",
      " 26  1_pq_interval   100689 non-null  int64  \n",
      " 27  1_qt_interval   100689 non-null  int64  \n",
      " 28  1_st_interval   100689 non-null  int64  \n",
      " 29  1_qrs_morph0    100689 non-null  float64\n",
      " 30  1_qrs_morph1    100689 non-null  float64\n",
      " 31  1_qrs_morph2    100689 non-null  float64\n",
      " 32  1_qrs_morph3    100689 non-null  float64\n",
      " 33  1_qrs_morph4    100689 non-null  float64\n",
      "dtypes: float64(22), int64(11), object(1)\n",
      "memory usage: 26.1+ MB\n"
     ]
    }
   ],
   "source": [
    "data.info()"
   ]
  },
  {
   "cell_type": "markdown",
   "id": "88cc1be5",
   "metadata": {},
   "source": [
    "## 📝 وصف أعمدة البيانات\n",
    "\n",
    "### ✅ أعمدة أساسية:\n",
    "- `record`: رقم تسجيل الـ ECG (يعبر عن مريض أو جلسة ECG)\n",
    "- `type`: نوع الضربة القلبية (مثل: `N`, `VEB`, `SVEB`, `F`, `Q`)\n",
    "\n",
    "---\n",
    "\n",
    "### 🧠 الأعمدة المشتقة من إشارة ECG:\n",
    "\n",
    "#### كل مجموعة تبدأ بـ `0_` أو `1_`:\n",
    "- `pre-RR`: المسافة الزمنية بين الضربة الحالية والسابقة (مؤشر لتسارع القلب)\n",
    "- `post-RR`: المسافة الزمنية بين الضربة الحالية والتالية\n",
    "- `pPeak`: قيمة قمة موجة الـ P\n",
    "- `tPeak`: قيمة قمة موجة الـ T\n",
    "- `rPeak`, `sPeak`, `qPeak`: قمم موجات QRS\n",
    "- `qrs_interval`: طول مركب QRS (يدل على الزمن اللازم لانقباض البطين)\n",
    "- `pq_interval`: الزمن بين P و Q (زمن التوصيل الأذيني-البطيني)\n",
    "- `qt_interval`: الزمن من بداية Q لنهاية T (زمن الانقباض والانبساط الكامل)\n",
    "- `st_interval`: الزمن بين نهاية S وبداية T\n",
    "\n",
    "#### الخصائص الشكلية للموجة:\n",
    "- `qrs_morph0` إلى `qrs_morph4`: تمثيل عددي لشكل مركب QRS (يستخدم لتحليل الشكل الكهربي للضربة)\n",
    "\n",
    "---\n",
    "\n",
    "🔁 ملاحظة:  \n",
    "كل خصائص `0_` تخص الضربة الحالية  \n",
    "كل خصائص `1_` تخص الضربة التالية\n"
   ]
  },
  {
   "cell_type": "code",
   "execution_count": 11,
   "id": "ea372a7e",
   "metadata": {},
   "outputs": [
    {
     "data": {
      "application/vnd.microsoft.datawrangler.viewer.v0+json": {
       "columns": [
        {
         "name": "index",
         "rawType": "object",
         "type": "string"
        },
        {
         "name": "mean",
         "rawType": "float64",
         "type": "float"
        },
        {
         "name": "std",
         "rawType": "float64",
         "type": "float"
        },
        {
         "name": "min",
         "rawType": "float64",
         "type": "float"
        },
        {
         "name": "max",
         "rawType": "float64",
         "type": "float"
        }
       ],
       "ref": "9cdee07c-dfc9-4b61-9dc8-f2b7c0d4340b",
       "rows": [
        [
         "0_pre-RR",
         "279.40094747191847",
         "81.91545281930172",
         "11.0",
         "2114.0"
        ],
        [
         "0_post-RR",
         "278.5882072520335",
         "81.12496336986776",
         "6.0",
         "2114.0"
        ],
        [
         "0_pPeak",
         "0.049771969281259223",
         "0.1687885948064619",
         "-3.094390984846774",
         "3.821118051497443"
        ],
        [
         "0_tPeak",
         "0.3722621973017028",
         "0.7398790845590955",
         "-2.0064216171691007",
         "4.1183272632350985"
        ],
        [
         "0_rPeak",
         "1.0544846865546746",
         "0.6175082565509283",
         "-2.3728345170242044",
         "4.018918358618384"
        ],
        [
         "0_sPeak",
         "-0.13437554821923917",
         "1.0275904466468648",
         "-3.622550393447805",
         "4.018918358618384"
        ],
        [
         "0_qPeak",
         "-0.09046576453724091",
         "0.18943630461705246",
         "-3.871359153433599",
         "3.080709957022601"
        ],
        [
         "0_qrs_interval",
         "28.326857948733227",
         "15.027788821211539",
         "0.0",
         "170.0"
        ],
        [
         "0_pq_interval",
         "10.97281728887962",
         "9.468930288078441",
         "1.0",
         "150.0"
        ],
        [
         "0_qt_interval",
         "59.776092721151265",
         "40.38605354397098",
         "5.0",
         "334.0"
        ],
        [
         "0_st_interval",
         "20.47641748353842",
         "29.66841225102765",
         "1.0",
         "141.0"
        ],
        [
         "0_qrs_morph0",
         "-0.09046576453724091",
         "0.18943630461705246",
         "-3.871359153433599",
         "3.080709957022601"
        ],
        [
         "0_qrs_morph1",
         "0.006981927404958814",
         "0.2607026148295511",
         "-2.6290321262113694",
         "2.8696938990480723"
        ],
        [
         "0_qrs_morph2",
         "0.30777318011819943",
         "0.5500099857145423",
         "-2.840410251803248",
         "3.331326486184606"
        ],
        [
         "0_qrs_morph3",
         "0.5512148791660296",
         "0.6284829224490693",
         "-2.995204078090434",
         "3.224798253129922"
        ],
        [
         "0_qrs_morph4",
         "0.2879922815162086",
         "0.5806503809271735",
         "-3.08609583905265",
         "2.632724001369675"
        ],
        [
         "1_pre-RR",
         "279.40094747191847",
         "81.91545281930172",
         "11.0",
         "2114.0"
        ],
        [
         "1_post-RR",
         "278.5882072520335",
         "81.12496336986776",
         "6.0",
         "2114.0"
        ],
        [
         "1_pPeak",
         "0.03032067204206871",
         "0.13426270609305369",
         "-2.10825653749377",
         "5.161309764474839"
        ],
        [
         "1_tPeak",
         "0.36225209425297217",
         "0.38076680249861417",
         "-2.493493853947691",
         "7.0026940560405775"
        ],
        [
         "1_rPeak",
         "-0.1254481303876388",
         "0.598776195632765",
         "-3.847311524413177",
         "4.033554372353503"
        ],
        [
         "1_sPeak",
         "-0.48434654033102176",
         "0.5863765102414773",
         "-6.1548728219011535",
         "3.3175951886093875"
        ],
        [
         "1_qPeak",
         "-0.32135943374481984",
         "0.4474442936458294",
         "-5.481982251079112",
         "4.033554372353503"
        ],
        [
         "1_qrs_interval",
         "11.212346929654679",
         "12.043095919521779",
         "0.0",
         "260.0"
        ],
        [
         "1_pq_interval",
         "10.487163443871724",
         "8.799686773674749",
         "1.0",
         "185.0"
        ],
        [
         "1_qt_interval",
         "36.11292196764294",
         "17.419759994586276",
         "5.0",
         "412.0"
        ],
        [
         "1_st_interval",
         "14.413411594116537",
         "9.118872458022535",
         "1.0",
         "215.0"
        ],
        [
         "1_qrs_morph0",
         "-0.32135943374481984",
         "0.4474442936458294",
         "-5.481982251079112",
         "4.033554372353503"
        ],
        [
         "1_qrs_morph1",
         "-0.3178360944780304",
         "0.45694881096714074",
         "-4.493783864235797",
         "3.585718075429868"
        ],
        [
         "1_qrs_morph2",
         "-0.30880858500347985",
         "0.5180432828690724",
         "-4.398122257854369",
         "2.69155713613089"
        ],
        [
         "1_qrs_morph3",
         "-0.29491899363829505",
         "0.5934261102862444",
         "-4.069725738276643",
         "3.755565980578097"
        ],
        [
         "1_qrs_morph4",
         "-0.3667981944132073",
         "0.5849130321337737",
         "-4.520326617762136",
         "2.86918624725779"
        ]
       ],
       "shape": {
        "columns": 4,
        "rows": 32
       }
      },
      "text/html": [
       "<div>\n",
       "<style scoped>\n",
       "    .dataframe tbody tr th:only-of-type {\n",
       "        vertical-align: middle;\n",
       "    }\n",
       "\n",
       "    .dataframe tbody tr th {\n",
       "        vertical-align: top;\n",
       "    }\n",
       "\n",
       "    .dataframe thead th {\n",
       "        text-align: right;\n",
       "    }\n",
       "</style>\n",
       "<table border=\"1\" class=\"dataframe\">\n",
       "  <thead>\n",
       "    <tr style=\"text-align: right;\">\n",
       "      <th></th>\n",
       "      <th>mean</th>\n",
       "      <th>std</th>\n",
       "      <th>min</th>\n",
       "      <th>max</th>\n",
       "    </tr>\n",
       "  </thead>\n",
       "  <tbody>\n",
       "    <tr>\n",
       "      <th>0_pre-RR</th>\n",
       "      <td>279.400947</td>\n",
       "      <td>81.915453</td>\n",
       "      <td>11.000000</td>\n",
       "      <td>2114.000000</td>\n",
       "    </tr>\n",
       "    <tr>\n",
       "      <th>0_post-RR</th>\n",
       "      <td>278.588207</td>\n",
       "      <td>81.124963</td>\n",
       "      <td>6.000000</td>\n",
       "      <td>2114.000000</td>\n",
       "    </tr>\n",
       "    <tr>\n",
       "      <th>0_pPeak</th>\n",
       "      <td>0.049772</td>\n",
       "      <td>0.168789</td>\n",
       "      <td>-3.094391</td>\n",
       "      <td>3.821118</td>\n",
       "    </tr>\n",
       "    <tr>\n",
       "      <th>0_tPeak</th>\n",
       "      <td>0.372262</td>\n",
       "      <td>0.739879</td>\n",
       "      <td>-2.006422</td>\n",
       "      <td>4.118327</td>\n",
       "    </tr>\n",
       "    <tr>\n",
       "      <th>0_rPeak</th>\n",
       "      <td>1.054485</td>\n",
       "      <td>0.617508</td>\n",
       "      <td>-2.372835</td>\n",
       "      <td>4.018918</td>\n",
       "    </tr>\n",
       "    <tr>\n",
       "      <th>0_sPeak</th>\n",
       "      <td>-0.134376</td>\n",
       "      <td>1.027590</td>\n",
       "      <td>-3.622550</td>\n",
       "      <td>4.018918</td>\n",
       "    </tr>\n",
       "    <tr>\n",
       "      <th>0_qPeak</th>\n",
       "      <td>-0.090466</td>\n",
       "      <td>0.189436</td>\n",
       "      <td>-3.871359</td>\n",
       "      <td>3.080710</td>\n",
       "    </tr>\n",
       "    <tr>\n",
       "      <th>0_qrs_interval</th>\n",
       "      <td>28.326858</td>\n",
       "      <td>15.027789</td>\n",
       "      <td>0.000000</td>\n",
       "      <td>170.000000</td>\n",
       "    </tr>\n",
       "    <tr>\n",
       "      <th>0_pq_interval</th>\n",
       "      <td>10.972817</td>\n",
       "      <td>9.468930</td>\n",
       "      <td>1.000000</td>\n",
       "      <td>150.000000</td>\n",
       "    </tr>\n",
       "    <tr>\n",
       "      <th>0_qt_interval</th>\n",
       "      <td>59.776093</td>\n",
       "      <td>40.386054</td>\n",
       "      <td>5.000000</td>\n",
       "      <td>334.000000</td>\n",
       "    </tr>\n",
       "    <tr>\n",
       "      <th>0_st_interval</th>\n",
       "      <td>20.476417</td>\n",
       "      <td>29.668412</td>\n",
       "      <td>1.000000</td>\n",
       "      <td>141.000000</td>\n",
       "    </tr>\n",
       "    <tr>\n",
       "      <th>0_qrs_morph0</th>\n",
       "      <td>-0.090466</td>\n",
       "      <td>0.189436</td>\n",
       "      <td>-3.871359</td>\n",
       "      <td>3.080710</td>\n",
       "    </tr>\n",
       "    <tr>\n",
       "      <th>0_qrs_morph1</th>\n",
       "      <td>0.006982</td>\n",
       "      <td>0.260703</td>\n",
       "      <td>-2.629032</td>\n",
       "      <td>2.869694</td>\n",
       "    </tr>\n",
       "    <tr>\n",
       "      <th>0_qrs_morph2</th>\n",
       "      <td>0.307773</td>\n",
       "      <td>0.550010</td>\n",
       "      <td>-2.840410</td>\n",
       "      <td>3.331326</td>\n",
       "    </tr>\n",
       "    <tr>\n",
       "      <th>0_qrs_morph3</th>\n",
       "      <td>0.551215</td>\n",
       "      <td>0.628483</td>\n",
       "      <td>-2.995204</td>\n",
       "      <td>3.224798</td>\n",
       "    </tr>\n",
       "    <tr>\n",
       "      <th>0_qrs_morph4</th>\n",
       "      <td>0.287992</td>\n",
       "      <td>0.580650</td>\n",
       "      <td>-3.086096</td>\n",
       "      <td>2.632724</td>\n",
       "    </tr>\n",
       "    <tr>\n",
       "      <th>1_pre-RR</th>\n",
       "      <td>279.400947</td>\n",
       "      <td>81.915453</td>\n",
       "      <td>11.000000</td>\n",
       "      <td>2114.000000</td>\n",
       "    </tr>\n",
       "    <tr>\n",
       "      <th>1_post-RR</th>\n",
       "      <td>278.588207</td>\n",
       "      <td>81.124963</td>\n",
       "      <td>6.000000</td>\n",
       "      <td>2114.000000</td>\n",
       "    </tr>\n",
       "    <tr>\n",
       "      <th>1_pPeak</th>\n",
       "      <td>0.030321</td>\n",
       "      <td>0.134263</td>\n",
       "      <td>-2.108257</td>\n",
       "      <td>5.161310</td>\n",
       "    </tr>\n",
       "    <tr>\n",
       "      <th>1_tPeak</th>\n",
       "      <td>0.362252</td>\n",
       "      <td>0.380767</td>\n",
       "      <td>-2.493494</td>\n",
       "      <td>7.002694</td>\n",
       "    </tr>\n",
       "    <tr>\n",
       "      <th>1_rPeak</th>\n",
       "      <td>-0.125448</td>\n",
       "      <td>0.598776</td>\n",
       "      <td>-3.847312</td>\n",
       "      <td>4.033554</td>\n",
       "    </tr>\n",
       "    <tr>\n",
       "      <th>1_sPeak</th>\n",
       "      <td>-0.484347</td>\n",
       "      <td>0.586377</td>\n",
       "      <td>-6.154873</td>\n",
       "      <td>3.317595</td>\n",
       "    </tr>\n",
       "    <tr>\n",
       "      <th>1_qPeak</th>\n",
       "      <td>-0.321359</td>\n",
       "      <td>0.447444</td>\n",
       "      <td>-5.481982</td>\n",
       "      <td>4.033554</td>\n",
       "    </tr>\n",
       "    <tr>\n",
       "      <th>1_qrs_interval</th>\n",
       "      <td>11.212347</td>\n",
       "      <td>12.043096</td>\n",
       "      <td>0.000000</td>\n",
       "      <td>260.000000</td>\n",
       "    </tr>\n",
       "    <tr>\n",
       "      <th>1_pq_interval</th>\n",
       "      <td>10.487163</td>\n",
       "      <td>8.799687</td>\n",
       "      <td>1.000000</td>\n",
       "      <td>185.000000</td>\n",
       "    </tr>\n",
       "    <tr>\n",
       "      <th>1_qt_interval</th>\n",
       "      <td>36.112922</td>\n",
       "      <td>17.419760</td>\n",
       "      <td>5.000000</td>\n",
       "      <td>412.000000</td>\n",
       "    </tr>\n",
       "    <tr>\n",
       "      <th>1_st_interval</th>\n",
       "      <td>14.413412</td>\n",
       "      <td>9.118872</td>\n",
       "      <td>1.000000</td>\n",
       "      <td>215.000000</td>\n",
       "    </tr>\n",
       "    <tr>\n",
       "      <th>1_qrs_morph0</th>\n",
       "      <td>-0.321359</td>\n",
       "      <td>0.447444</td>\n",
       "      <td>-5.481982</td>\n",
       "      <td>4.033554</td>\n",
       "    </tr>\n",
       "    <tr>\n",
       "      <th>1_qrs_morph1</th>\n",
       "      <td>-0.317836</td>\n",
       "      <td>0.456949</td>\n",
       "      <td>-4.493784</td>\n",
       "      <td>3.585718</td>\n",
       "    </tr>\n",
       "    <tr>\n",
       "      <th>1_qrs_morph2</th>\n",
       "      <td>-0.308809</td>\n",
       "      <td>0.518043</td>\n",
       "      <td>-4.398122</td>\n",
       "      <td>2.691557</td>\n",
       "    </tr>\n",
       "    <tr>\n",
       "      <th>1_qrs_morph3</th>\n",
       "      <td>-0.294919</td>\n",
       "      <td>0.593426</td>\n",
       "      <td>-4.069726</td>\n",
       "      <td>3.755566</td>\n",
       "    </tr>\n",
       "    <tr>\n",
       "      <th>1_qrs_morph4</th>\n",
       "      <td>-0.366798</td>\n",
       "      <td>0.584913</td>\n",
       "      <td>-4.520327</td>\n",
       "      <td>2.869186</td>\n",
       "    </tr>\n",
       "  </tbody>\n",
       "</table>\n",
       "</div>"
      ],
      "text/plain": [
       "                      mean        std        min          max\n",
       "0_pre-RR        279.400947  81.915453  11.000000  2114.000000\n",
       "0_post-RR       278.588207  81.124963   6.000000  2114.000000\n",
       "0_pPeak           0.049772   0.168789  -3.094391     3.821118\n",
       "0_tPeak           0.372262   0.739879  -2.006422     4.118327\n",
       "0_rPeak           1.054485   0.617508  -2.372835     4.018918\n",
       "0_sPeak          -0.134376   1.027590  -3.622550     4.018918\n",
       "0_qPeak          -0.090466   0.189436  -3.871359     3.080710\n",
       "0_qrs_interval   28.326858  15.027789   0.000000   170.000000\n",
       "0_pq_interval    10.972817   9.468930   1.000000   150.000000\n",
       "0_qt_interval    59.776093  40.386054   5.000000   334.000000\n",
       "0_st_interval    20.476417  29.668412   1.000000   141.000000\n",
       "0_qrs_morph0     -0.090466   0.189436  -3.871359     3.080710\n",
       "0_qrs_morph1      0.006982   0.260703  -2.629032     2.869694\n",
       "0_qrs_morph2      0.307773   0.550010  -2.840410     3.331326\n",
       "0_qrs_morph3      0.551215   0.628483  -2.995204     3.224798\n",
       "0_qrs_morph4      0.287992   0.580650  -3.086096     2.632724\n",
       "1_pre-RR        279.400947  81.915453  11.000000  2114.000000\n",
       "1_post-RR       278.588207  81.124963   6.000000  2114.000000\n",
       "1_pPeak           0.030321   0.134263  -2.108257     5.161310\n",
       "1_tPeak           0.362252   0.380767  -2.493494     7.002694\n",
       "1_rPeak          -0.125448   0.598776  -3.847312     4.033554\n",
       "1_sPeak          -0.484347   0.586377  -6.154873     3.317595\n",
       "1_qPeak          -0.321359   0.447444  -5.481982     4.033554\n",
       "1_qrs_interval   11.212347  12.043096   0.000000   260.000000\n",
       "1_pq_interval    10.487163   8.799687   1.000000   185.000000\n",
       "1_qt_interval    36.112922  17.419760   5.000000   412.000000\n",
       "1_st_interval    14.413412   9.118872   1.000000   215.000000\n",
       "1_qrs_morph0     -0.321359   0.447444  -5.481982     4.033554\n",
       "1_qrs_morph1     -0.317836   0.456949  -4.493784     3.585718\n",
       "1_qrs_morph2     -0.308809   0.518043  -4.398122     2.691557\n",
       "1_qrs_morph3     -0.294919   0.593426  -4.069726     3.755566\n",
       "1_qrs_morph4     -0.366798   0.584913  -4.520327     2.869186"
      ]
     },
     "execution_count": 11,
     "metadata": {},
     "output_type": "execute_result"
    }
   ],
   "source": [
    "# Exclude non-numeric columns for summary\n",
    "numeric_df = data.drop(columns=['record', 'type'])\n",
    "summary = numeric_df.describe().T\n",
    "summary[['mean', 'std', 'min', 'max']]"
   ]
  },
  {
   "cell_type": "code",
   "execution_count": 7,
   "id": "a0c1eb8f",
   "metadata": {},
   "outputs": [
    {
     "data": {
      "application/vnd.microsoft.datawrangler.viewer.v0+json": {
       "columns": [
        {
         "name": "type",
         "rawType": "object",
         "type": "string"
        },
        {
         "name": "count",
         "rawType": "int64",
         "type": "integer"
        }
       ],
       "ref": "f7566b3c-cd9d-46c2-aba5-3c0d9c3698c1",
       "rows": [
        [
         "N",
         "90083"
        ],
        [
         "VEB",
         "7009"
        ],
        [
         "SVEB",
         "2779"
        ],
        [
         "F",
         "803"
        ],
        [
         "Q",
         "15"
        ]
       ],
       "shape": {
        "columns": 1,
        "rows": 5
       }
      },
      "text/plain": [
       "type\n",
       "N       90083\n",
       "VEB      7009\n",
       "SVEB     2779\n",
       "F         803\n",
       "Q          15\n",
       "Name: count, dtype: int64"
      ]
     },
     "execution_count": 7,
     "metadata": {},
     "output_type": "execute_result"
    }
   ],
   "source": [
    "data[\"type\"].value_counts()"
   ]
  },
  {
   "cell_type": "markdown",
   "id": "1bcf1f61",
   "metadata": {},
   "source": [
    "### ✅ `type`: نوع الضربة القلبية\n",
    "\n",
    "- `N` -> ضربة طبيعية (Normal beat)\n",
    "- `VEB` -> ضربة بطينية مبكرة (Ventricular Ectopic Beat)  \n",
    "  ⚠️ غير طبيعية، تنشأ من البطين قبل الموعد الطبيعي\n",
    "- `SVEB` -> ضربة أذينية/فوق بطينية مبكرة (Supraventricular Ectopic Beat)  \n",
    "  ⚠️ غير طبيعية، تنشأ من الأذين أو العقدة الأذينية البطينية\n",
    "- `F` -> ضربة ناتجة عن الرجفان الأذيني (Fusion beat)  \n",
    "  💡 مزيج بين ضربة طبيعية وضربة مبكرة\n",
    "- `Q` -> غير قابلة للتصنيف أو غير محددة (Unknown / Unclassifiable beat)  \n",
    "  ❓ ممكن تكون ضوضاء أو شكل غير واضح"
   ]
  },
  {
   "cell_type": "markdown",
   "id": "f8831695",
   "metadata": {},
   "source": [
    "## Plot class distribution in the MIT-BIH dataset"
   ]
  },
  {
   "cell_type": "code",
   "execution_count": 9,
   "id": "d6894c03",
   "metadata": {},
   "outputs": [
    {
     "data": {
      "image/png": "[encoded data removed]",
      "text/plain": [
       "<Figure size 800x500 with 1 Axes>"
      ]
     },
     "metadata": {},
     "output_type": "display_data"
    }
   ],
   "source": [
    "class_counts = data['type'].value_counts().sort_values(ascending=False)\n",
    "\n",
    "plt.figure(figsize=(8, 5))\n",
    "sns.barplot(\n",
    "    x=class_counts.index,\n",
    "    y=class_counts.values,\n",
    "    hue=class_counts.index,  \n",
    "    palette='Set1',\n",
    "    legend=False  \n",
    ")\n",
    "plt.title('Heartbeat Class Distribution (MIT-BIH Arrhythmia Dataset)', fontsize=12)\n",
    "plt.xlabel('Class Label', fontsize=12)\n",
    "plt.ylabel('Count', fontsize=12)\n",
    "plt.grid(axis='y')\n",
    "plt.show()\n"
   ]
  }
 ],
 "metadata": {
  "kernelspec": {
   "display_name": "Python 3",
   "language": "python",
   "name": "python3"
  },
  "language_info": {
   "codemirror_mode": {
    "name": "ipython",
    "version": 3
   },
   "file_extension": ".py",
   "mimetype": "text/x-python",
   "name": "python",
   "nbconvert_exporter": "python",
   "pygments_lexer": "ipython3",
   "version": "3.12.4"
  }
 },
 "nbformat": 4,
 "nbformat_minor": 5
}
