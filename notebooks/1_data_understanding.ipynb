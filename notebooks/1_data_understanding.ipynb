{
 "cells": [
  {
   "cell_type": "markdown",
   "id": "ced0732d",
   "metadata": {},
   "source": [
    "# 🫀 Cardiac Arrhythmia Database\n",
    "\n",
    "## 📌 Overview\n",
    "This dataset is designed for the classification of cardiac arrhythmias based on ECG (Electrocardiogram) features. It aims to determine whether a patient has a normal heart condition or suffers from a specific type of arrhythmia.\n",
    "\n",
    "---\n",
    "\n",
    "## 📊 Dataset Summary\n",
    "\n",
    "- **Number of Instances:** 452 patients\n",
    "- **Number of Attributes:** 279 attributes (206 numeric, rest nominal)\n",
    "- **Classes:** 16 (1 = Normal, 2–15 = specific arrhythmias, 16 = others)\n",
    "- **Missing Values:** Present (`?`)\n",
    "- **Data Source Date:** January 1998\n",
    "\n",
    "---\n",
    "\n",
    "## 🎯 Objective\n",
    "\n",
    "The main goal is to:\n",
    "- Detect the presence or absence of arrhythmia.\n",
    "- Classify it into one of 16 predefined categories.\n",
    "- Minimize classification errors compared to cardiologist diagnoses using machine learning techniques.\n",
    "\n",
    "---\n",
    "\n",
    "## 📂 Source Information\n",
    "\n",
    "- **Original Creators:**\n",
    "  - Dr. H. Altay Guvenir – Bilkent University, Dept. of Computer Engineering\n",
    "  - Burak Acar, M.S. – Bilkent University, Dept. of Electrical Engineering\n",
    "  - Dr. Haldun Muderrisoglu – Baskent University, School of Medicine\n",
    "- **Donor:** Dr. H. Altay Guvenir\n",
    "- **Location:** Ankara, Turkey\n",
    "\n",
    "---\n",
    "\n",
    "## 🧪 Past Research Use\n",
    "\n",
    "> Guvenir et al. (1997), *\"A Supervised Machine Learning Algorithm for Arrhythmia Analysis\"*, Computers in Cardiology Conference, Lund, Sweden.\n",
    "---"
   ]
  },
  {
   "cell_type": "code",
   "execution_count": 2,
   "id": "48eb8667",
   "metadata": {},
   "outputs": [],
   "source": [
    "import numpy as np \n",
    "import pandas as pd \n",
    "import matplotlib.pyplot as plt"
   ]
  },
  {
   "cell_type": "code",
   "execution_count": 7,
   "id": "f4653197",
   "metadata": {},
   "outputs": [
    {
     "data": {
      "application/vnd.microsoft.datawrangler.viewer.v0+json": {
       "columns": [
        {
         "name": "index",
         "rawType": "int64",
         "type": "integer"
        },
        {
         "name": "0",
         "rawType": "int64",
         "type": "integer"
        },
        {
         "name": "1",
         "rawType": "int64",
         "type": "integer"
        },
        {
         "name": "2",
         "rawType": "int64",
         "type": "integer"
        },
        {
         "name": "3",
         "rawType": "int64",
         "type": "integer"
        },
        {
         "name": "4",
         "rawType": "int64",
         "type": "integer"
        },
        {
         "name": "5",
         "rawType": "int64",
         "type": "integer"
        },
        {
         "name": "6",
         "rawType": "int64",
         "type": "integer"
        },
        {
         "name": "7",
         "rawType": "int64",
         "type": "integer"
        },
        {
         "name": "8",
         "rawType": "int64",
         "type": "integer"
        },
        {
         "name": "9",
         "rawType": "int64",
         "type": "integer"
        },
        {
         "name": "10",
         "rawType": "object",
         "type": "string"
        },
        {
         "name": "11",
         "rawType": "object",
         "type": "string"
        },
        {
         "name": "12",
         "rawType": "object",
         "type": "string"
        },
        {
         "name": "13",
         "rawType": "object",
         "type": "string"
        },
        {
         "name": "14",
         "rawType": "object",
         "type": "string"
        },
        {
         "name": "15",
         "rawType": "int64",
         "type": "integer"
        },
        {
         "name": "16",
         "rawType": "int64",
         "type": "integer"
        },
        {
         "name": "17",
         "rawType": "int64",
         "type": "integer"
        },
        {
         "name": "18",
         "rawType": "int64",
         "type": "integer"
        },
        {
         "name": "19",
         "rawType": "int64",
         "type": "integer"
        },
        {
         "name": "20",
         "rawType": "int64",
         "type": "integer"
        },
        {
         "name": "21",
         "rawType": "int64",
         "type": "integer"
        },
        {
         "name": "22",
         "rawType": "int64",
         "type": "integer"
        },
        {
         "name": "23",
         "rawType": "int64",
         "type": "integer"
        },
        {
         "name": "24",
         "rawType": "int64",
         "type": "integer"
        },
        {
         "name": "25",
         "rawType": "int64",
         "type": "integer"
        },
        {
         "name": "26",
         "rawType": "int64",
         "type": "integer"
        },
        {
         "name": "27",
         "rawType": "int64",
         "type": "integer"
        },
        {
         "name": "28",
         "rawType": "int64",
         "type": "integer"
        },
        {
         "name": "29",
         "rawType": "int64",
         "type": "integer"
        },
        {
         "name": "30",
         "rawType": "int64",
         "type": "integer"
        },
        {
         "name": "31",
         "rawType": "int64",
         "type": "integer"
        },
        {
         "name": "32",
         "rawType": "int64",
         "type": "integer"
        },
        {
         "name": "33",
         "rawType": "int64",
         "type": "integer"
        },
        {
         "name": "34",
         "rawType": "int64",
         "type": "integer"
        },
        {
         "name": "35",
         "rawType": "int64",
         "type": "integer"
        },
        {
         "name": "36",
         "rawType": "int64",
         "type": "integer"
        },
        {
         "name": "37",
         "rawType": "int64",
         "type": "integer"
        },
        {
         "name": "38",
         "rawType": "int64",
         "type": "integer"
        },
        {
         "name": "39",
         "rawType": "int64",
         "type": "integer"
        },
        {
         "name": "40",
         "rawType": "int64",
         "type": "integer"
        },
        {
         "name": "41",
         "rawType": "int64",
         "type": "integer"
        },
        {
         "name": "42",
         "rawType": "int64",
         "type": "integer"
        },
        {
         "name": "43",
         "rawType": "int64",
         "type": "integer"
        },
        {
         "name": "44",
         "rawType": "int64",
         "type": "integer"
        },
        {
         "name": "45",
         "rawType": "int64",
         "type": "integer"
        },
        {
         "name": "46",
         "rawType": "int64",
         "type": "integer"
        },
        {
         "name": "47",
         "rawType": "int64",
         "type": "integer"
        },
        {
         "name": "48",
         "rawType": "int64",
         "type": "integer"
        },
        {
         "name": "49",
         "rawType": "int64",
         "type": "integer"
        },
        {
         "name": "50",
         "rawType": "int64",
         "type": "integer"
        },
        {
         "name": "51",
         "rawType": "int64",
         "type": "integer"
        },
        {
         "name": "52",
         "rawType": "int64",
         "type": "integer"
        },
        {
         "name": "53",
         "rawType": "int64",
         "type": "integer"
        },
        {
         "name": "54",
         "rawType": "int64",
         "type": "integer"
        },
        {
         "name": "55",
         "rawType": "int64",
         "type": "integer"
        },
        {
         "name": "56",
         "rawType": "int64",
         "type": "integer"
        },
        {
         "name": "57",
         "rawType": "int64",
         "type": "integer"
        },
        {
         "name": "58",
         "rawType": "int64",
         "type": "integer"
        },
        {
         "name": "59",
         "rawType": "int64",
         "type": "integer"
        },
        {
         "name": "60",
         "rawType": "int64",
         "type": "integer"
        },
        {
         "name": "61",
         "rawType": "int64",
         "type": "integer"
        },
        {
         "name": "62",
         "rawType": "int64",
         "type": "integer"
        },
        {
         "name": "63",
         "rawType": "int64",
         "type": "integer"
        },
        {
         "name": "64",
         "rawType": "int64",
         "type": "integer"
        },
        {
         "name": "65",
         "rawType": "int64",
         "type": "integer"
        },
        {
         "name": "66",
         "rawType": "int64",
         "type": "integer"
        },
        {
         "name": "67",
         "rawType": "int64",
         "type": "integer"
        },
        {
         "name": "68",
         "rawType": "int64",
         "type": "integer"
        },
        {
         "name": "69",
         "rawType": "int64",
         "type": "integer"
        },
        {
         "name": "70",
         "rawType": "int64",
         "type": "integer"
        },
        {
         "name": "71",
         "rawType": "int64",
         "type": "integer"
        },
        {
         "name": "72",
         "rawType": "int64",
         "type": "integer"
        },
        {
         "name": "73",
         "rawType": "int64",
         "type": "integer"
        },
        {
         "name": "74",
         "rawType": "int64",
         "type": "integer"
        },
        {
         "name": "75",
         "rawType": "int64",
         "type": "integer"
        },
        {
         "name": "76",
         "rawType": "int64",
         "type": "integer"
        },
        {
         "name": "77",
         "rawType": "int64",
         "type": "integer"
        },
        {
         "name": "78",
         "rawType": "int64",
         "type": "integer"
        },
        {
         "name": "79",
         "rawType": "int64",
         "type": "integer"
        },
        {
         "name": "80",
         "rawType": "int64",
         "type": "integer"
        },
        {
         "name": "81",
         "rawType": "int64",
         "type": "integer"
        },
        {
         "name": "82",
         "rawType": "int64",
         "type": "integer"
        },
        {
         "name": "83",
         "rawType": "int64",
         "type": "integer"
        },
        {
         "name": "84",
         "rawType": "int64",
         "type": "integer"
        },
        {
         "name": "85",
         "rawType": "int64",
         "type": "integer"
        },
        {
         "name": "86",
         "rawType": "int64",
         "type": "integer"
        },
        {
         "name": "87",
         "rawType": "int64",
         "type": "integer"
        },
        {
         "name": "88",
         "rawType": "int64",
         "type": "integer"
        },
        {
         "name": "89",
         "rawType": "int64",
         "type": "integer"
        },
        {
         "name": "90",
         "rawType": "int64",
         "type": "integer"
        },
        {
         "name": "91",
         "rawType": "int64",
         "type": "integer"
        },
        {
         "name": "92",
         "rawType": "int64",
         "type": "integer"
        },
        {
         "name": "93",
         "rawType": "int64",
         "type": "integer"
        },
        {
         "name": "94",
         "rawType": "int64",
         "type": "integer"
        },
        {
         "name": "95",
         "rawType": "int64",
         "type": "integer"
        },
        {
         "name": "96",
         "rawType": "int64",
         "type": "integer"
        },
        {
         "name": "97",
         "rawType": "int64",
         "type": "integer"
        },
        {
         "name": "98",
         "rawType": "int64",
         "type": "integer"
        },
        {
         "name": "99",
         "rawType": "int64",
         "type": "integer"
        },
        {
         "name": "100",
         "rawType": "int64",
         "type": "integer"
        },
        {
         "name": "101",
         "rawType": "int64",
         "type": "integer"
        },
        {
         "name": "102",
         "rawType": "int64",
         "type": "integer"
        },
        {
         "name": "103",
         "rawType": "int64",
         "type": "integer"
        },
        {
         "name": "104",
         "rawType": "int64",
         "type": "integer"
        },
        {
         "name": "105",
         "rawType": "int64",
         "type": "integer"
        },
        {
         "name": "106",
         "rawType": "int64",
         "type": "integer"
        },
        {
         "name": "107",
         "rawType": "int64",
         "type": "integer"
        },
        {
         "name": "108",
         "rawType": "int64",
         "type": "integer"
        },
        {
         "name": "109",
         "rawType": "int64",
         "type": "integer"
        },
        {
         "name": "110",
         "rawType": "int64",
         "type": "integer"
        },
        {
         "name": "111",
         "rawType": "int64",
         "type": "integer"
        },
        {
         "name": "112",
         "rawType": "int64",
         "type": "integer"
        },
        {
         "name": "113",
         "rawType": "int64",
         "type": "integer"
        },
        {
         "name": "114",
         "rawType": "int64",
         "type": "integer"
        },
        {
         "name": "115",
         "rawType": "int64",
         "type": "integer"
        },
        {
         "name": "116",
         "rawType": "int64",
         "type": "integer"
        },
        {
         "name": "117",
         "rawType": "int64",
         "type": "integer"
        },
        {
         "name": "118",
         "rawType": "int64",
         "type": "integer"
        },
        {
         "name": "119",
         "rawType": "int64",
         "type": "integer"
        },
        {
         "name": "120",
         "rawType": "int64",
         "type": "integer"
        },
        {
         "name": "121",
         "rawType": "int64",
         "type": "integer"
        },
        {
         "name": "122",
         "rawType": "int64",
         "type": "integer"
        },
        {
         "name": "123",
         "rawType": "int64",
         "type": "integer"
        },
        {
         "name": "124",
         "rawType": "int64",
         "type": "integer"
        },
        {
         "name": "125",
         "rawType": "int64",
         "type": "integer"
        },
        {
         "name": "126",
         "rawType": "int64",
         "type": "integer"
        },
        {
         "name": "127",
         "rawType": "int64",
         "type": "integer"
        },
        {
         "name": "128",
         "rawType": "int64",
         "type": "integer"
        },
        {
         "name": "129",
         "rawType": "int64",
         "type": "integer"
        },
        {
         "name": "130",
         "rawType": "int64",
         "type": "integer"
        },
        {
         "name": "131",
         "rawType": "int64",
         "type": "integer"
        },
        {
         "name": "132",
         "rawType": "int64",
         "type": "integer"
        },
        {
         "name": "133",
         "rawType": "int64",
         "type": "integer"
        },
        {
         "name": "134",
         "rawType": "int64",
         "type": "integer"
        },
        {
         "name": "135",
         "rawType": "int64",
         "type": "integer"
        },
        {
         "name": "136",
         "rawType": "int64",
         "type": "integer"
        },
        {
         "name": "137",
         "rawType": "int64",
         "type": "integer"
        },
        {
         "name": "138",
         "rawType": "int64",
         "type": "integer"
        },
        {
         "name": "139",
         "rawType": "int64",
         "type": "integer"
        },
        {
         "name": "140",
         "rawType": "int64",
         "type": "integer"
        },
        {
         "name": "141",
         "rawType": "int64",
         "type": "integer"
        },
        {
         "name": "142",
         "rawType": "int64",
         "type": "integer"
        },
        {
         "name": "143",
         "rawType": "int64",
         "type": "integer"
        },
        {
         "name": "144",
         "rawType": "int64",
         "type": "integer"
        },
        {
         "name": "145",
         "rawType": "int64",
         "type": "integer"
        },
        {
         "name": "146",
         "rawType": "int64",
         "type": "integer"
        },
        {
         "name": "147",
         "rawType": "int64",
         "type": "integer"
        },
        {
         "name": "148",
         "rawType": "int64",
         "type": "integer"
        },
        {
         "name": "149",
         "rawType": "int64",
         "type": "integer"
        },
        {
         "name": "150",
         "rawType": "int64",
         "type": "integer"
        },
        {
         "name": "151",
         "rawType": "int64",
         "type": "integer"
        },
        {
         "name": "152",
         "rawType": "int64",
         "type": "integer"
        },
        {
         "name": "153",
         "rawType": "int64",
         "type": "integer"
        },
        {
         "name": "154",
         "rawType": "int64",
         "type": "integer"
        },
        {
         "name": "155",
         "rawType": "int64",
         "type": "integer"
        },
        {
         "name": "156",
         "rawType": "int64",
         "type": "integer"
        },
        {
         "name": "157",
         "rawType": "int64",
         "type": "integer"
        },
        {
         "name": "158",
         "rawType": "int64",
         "type": "integer"
        },
        {
         "name": "159",
         "rawType": "float64",
         "type": "float"
        },
        {
         "name": "160",
         "rawType": "float64",
         "type": "float"
        },
        {
         "name": "161",
         "rawType": "float64",
         "type": "float"
        },
        {
         "name": "162",
         "rawType": "float64",
         "type": "float"
        },
        {
         "name": "163",
         "rawType": "float64",
         "type": "float"
        },
        {
         "name": "164",
         "rawType": "float64",
         "type": "float"
        },
        {
         "name": "165",
         "rawType": "float64",
         "type": "float"
        },
        {
         "name": "166",
         "rawType": "float64",
         "type": "float"
        },
        {
         "name": "167",
         "rawType": "float64",
         "type": "float"
        },
        {
         "name": "168",
         "rawType": "float64",
         "type": "float"
        },
        {
         "name": "169",
         "rawType": "float64",
         "type": "float"
        },
        {
         "name": "170",
         "rawType": "float64",
         "type": "float"
        },
        {
         "name": "171",
         "rawType": "float64",
         "type": "float"
        },
        {
         "name": "172",
         "rawType": "float64",
         "type": "float"
        },
        {
         "name": "173",
         "rawType": "float64",
         "type": "float"
        },
        {
         "name": "174",
         "rawType": "float64",
         "type": "float"
        },
        {
         "name": "175",
         "rawType": "float64",
         "type": "float"
        },
        {
         "name": "176",
         "rawType": "float64",
         "type": "float"
        },
        {
         "name": "177",
         "rawType": "float64",
         "type": "float"
        },
        {
         "name": "178",
         "rawType": "float64",
         "type": "float"
        },
        {
         "name": "179",
         "rawType": "float64",
         "type": "float"
        },
        {
         "name": "180",
         "rawType": "float64",
         "type": "float"
        },
        {
         "name": "181",
         "rawType": "float64",
         "type": "float"
        },
        {
         "name": "182",
         "rawType": "float64",
         "type": "float"
        },
        {
         "name": "183",
         "rawType": "float64",
         "type": "float"
        },
        {
         "name": "184",
         "rawType": "float64",
         "type": "float"
        },
        {
         "name": "185",
         "rawType": "float64",
         "type": "float"
        },
        {
         "name": "186",
         "rawType": "float64",
         "type": "float"
        },
        {
         "name": "187",
         "rawType": "float64",
         "type": "float"
        },
        {
         "name": "188",
         "rawType": "float64",
         "type": "float"
        },
        {
         "name": "189",
         "rawType": "float64",
         "type": "float"
        },
        {
         "name": "190",
         "rawType": "float64",
         "type": "float"
        },
        {
         "name": "191",
         "rawType": "float64",
         "type": "float"
        },
        {
         "name": "192",
         "rawType": "float64",
         "type": "float"
        },
        {
         "name": "193",
         "rawType": "float64",
         "type": "float"
        },
        {
         "name": "194",
         "rawType": "float64",
         "type": "float"
        },
        {
         "name": "195",
         "rawType": "float64",
         "type": "float"
        },
        {
         "name": "196",
         "rawType": "float64",
         "type": "float"
        },
        {
         "name": "197",
         "rawType": "float64",
         "type": "float"
        },
        {
         "name": "198",
         "rawType": "float64",
         "type": "float"
        },
        {
         "name": "199",
         "rawType": "float64",
         "type": "float"
        },
        {
         "name": "200",
         "rawType": "float64",
         "type": "float"
        },
        {
         "name": "201",
         "rawType": "float64",
         "type": "float"
        },
        {
         "name": "202",
         "rawType": "float64",
         "type": "float"
        },
        {
         "name": "203",
         "rawType": "float64",
         "type": "float"
        },
        {
         "name": "204",
         "rawType": "float64",
         "type": "float"
        },
        {
         "name": "205",
         "rawType": "float64",
         "type": "float"
        },
        {
         "name": "206",
         "rawType": "float64",
         "type": "float"
        },
        {
         "name": "207",
         "rawType": "float64",
         "type": "float"
        },
        {
         "name": "208",
         "rawType": "float64",
         "type": "float"
        },
        {
         "name": "209",
         "rawType": "float64",
         "type": "float"
        },
        {
         "name": "210",
         "rawType": "float64",
         "type": "float"
        },
        {
         "name": "211",
         "rawType": "float64",
         "type": "float"
        },
        {
         "name": "212",
         "rawType": "float64",
         "type": "float"
        },
        {
         "name": "213",
         "rawType": "float64",
         "type": "float"
        },
        {
         "name": "214",
         "rawType": "float64",
         "type": "float"
        },
        {
         "name": "215",
         "rawType": "float64",
         "type": "float"
        },
        {
         "name": "216",
         "rawType": "float64",
         "type": "float"
        },
        {
         "name": "217",
         "rawType": "float64",
         "type": "float"
        },
        {
         "name": "218",
         "rawType": "float64",
         "type": "float"
        },
        {
         "name": "219",
         "rawType": "float64",
         "type": "float"
        },
        {
         "name": "220",
         "rawType": "float64",
         "type": "float"
        },
        {
         "name": "221",
         "rawType": "float64",
         "type": "float"
        },
        {
         "name": "222",
         "rawType": "float64",
         "type": "float"
        },
        {
         "name": "223",
         "rawType": "float64",
         "type": "float"
        },
        {
         "name": "224",
         "rawType": "float64",
         "type": "float"
        },
        {
         "name": "225",
         "rawType": "float64",
         "type": "float"
        },
        {
         "name": "226",
         "rawType": "float64",
         "type": "float"
        },
        {
         "name": "227",
         "rawType": "float64",
         "type": "float"
        },
        {
         "name": "228",
         "rawType": "float64",
         "type": "float"
        },
        {
         "name": "229",
         "rawType": "float64",
         "type": "float"
        },
        {
         "name": "230",
         "rawType": "float64",
         "type": "float"
        },
        {
         "name": "231",
         "rawType": "float64",
         "type": "float"
        },
        {
         "name": "232",
         "rawType": "float64",
         "type": "float"
        },
        {
         "name": "233",
         "rawType": "float64",
         "type": "float"
        },
        {
         "name": "234",
         "rawType": "float64",
         "type": "float"
        },
        {
         "name": "235",
         "rawType": "float64",
         "type": "float"
        },
        {
         "name": "236",
         "rawType": "float64",
         "type": "float"
        },
        {
         "name": "237",
         "rawType": "float64",
         "type": "float"
        },
        {
         "name": "238",
         "rawType": "float64",
         "type": "float"
        },
        {
         "name": "239",
         "rawType": "float64",
         "type": "float"
        },
        {
         "name": "240",
         "rawType": "float64",
         "type": "float"
        },
        {
         "name": "241",
         "rawType": "float64",
         "type": "float"
        },
        {
         "name": "242",
         "rawType": "float64",
         "type": "float"
        },
        {
         "name": "243",
         "rawType": "float64",
         "type": "float"
        },
        {
         "name": "244",
         "rawType": "float64",
         "type": "float"
        },
        {
         "name": "245",
         "rawType": "float64",
         "type": "float"
        },
        {
         "name": "246",
         "rawType": "float64",
         "type": "float"
        },
        {
         "name": "247",
         "rawType": "float64",
         "type": "float"
        },
        {
         "name": "248",
         "rawType": "float64",
         "type": "float"
        },
        {
         "name": "249",
         "rawType": "float64",
         "type": "float"
        },
        {
         "name": "250",
         "rawType": "float64",
         "type": "float"
        },
        {
         "name": "251",
         "rawType": "float64",
         "type": "float"
        },
        {
         "name": "252",
         "rawType": "float64",
         "type": "float"
        },
        {
         "name": "253",
         "rawType": "float64",
         "type": "float"
        },
        {
         "name": "254",
         "rawType": "float64",
         "type": "float"
        },
        {
         "name": "255",
         "rawType": "float64",
         "type": "float"
        },
        {
         "name": "256",
         "rawType": "float64",
         "type": "float"
        },
        {
         "name": "257",
         "rawType": "float64",
         "type": "float"
        },
        {
         "name": "258",
         "rawType": "float64",
         "type": "float"
        },
        {
         "name": "259",
         "rawType": "float64",
         "type": "float"
        },
        {
         "name": "260",
         "rawType": "float64",
         "type": "float"
        },
        {
         "name": "261",
         "rawType": "float64",
         "type": "float"
        },
        {
         "name": "262",
         "rawType": "float64",
         "type": "float"
        },
        {
         "name": "263",
         "rawType": "float64",
         "type": "float"
        },
        {
         "name": "264",
         "rawType": "float64",
         "type": "float"
        },
        {
         "name": "265",
         "rawType": "float64",
         "type": "float"
        },
        {
         "name": "266",
         "rawType": "float64",
         "type": "float"
        },
        {
         "name": "267",
         "rawType": "float64",
         "type": "float"
        },
        {
         "name": "268",
         "rawType": "float64",
         "type": "float"
        },
        {
         "name": "269",
         "rawType": "float64",
         "type": "float"
        },
        {
         "name": "270",
         "rawType": "float64",
         "type": "float"
        },
        {
         "name": "271",
         "rawType": "float64",
         "type": "float"
        },
        {
         "name": "272",
         "rawType": "float64",
         "type": "float"
        },
        {
         "name": "273",
         "rawType": "float64",
         "type": "float"
        },
        {
         "name": "274",
         "rawType": "float64",
         "type": "float"
        },
        {
         "name": "275",
         "rawType": "float64",
         "type": "float"
        },
        {
         "name": "276",
         "rawType": "float64",
         "type": "float"
        },
        {
         "name": "277",
         "rawType": "float64",
         "type": "float"
        },
        {
         "name": "278",
         "rawType": "float64",
         "type": "float"
        },
        {
         "name": "279",
         "rawType": "int64",
         "type": "integer"
        }
       ],
       "ref": "ac719362-eea0-4b80-9271-eb1bea1e1cf7",
       "rows": [
        [
         "0",
         "75",
         "0",
         "190",
         "80",
         "91",
         "193",
         "371",
         "174",
         "121",
         "-16",
         "13",
         "64",
         "-2",
         "?",
         "63",
         "0",
         "52",
         "44",
         "0",
         "0",
         "32",
         "0",
         "0",
         "0",
         "0",
         "0",
         "0",
         "0",
         "44",
         "20",
         "36",
         "0",
         "28",
         "0",
         "0",
         "0",
         "0",
         "0",
         "0",
         "52",
         "40",
         "0",
         "0",
         "0",
         "60",
         "0",
         "0",
         "0",
         "0",
         "0",
         "0",
         "52",
         "0",
         "0",
         "0",
         "0",
         "0",
         "0",
         "0",
         "0",
         "0",
         "0",
         "0",
         "0",
         "56",
         "36",
         "0",
         "0",
         "32",
         "0",
         "0",
         "0",
         "0",
         "0",
         "0",
         "48",
         "32",
         "0",
         "0",
         "0",
         "56",
         "0",
         "0",
         "0",
         "0",
         "0",
         "0",
         "80",
         "0",
         "0",
         "0",
         "0",
         "0",
         "0",
         "0",
         "0",
         "0",
         "0",
         "0",
         "0",
         "40",
         "52",
         "0",
         "0",
         "28",
         "0",
         "0",
         "0",
         "0",
         "0",
         "0",
         "0",
         "48",
         "48",
         "0",
         "0",
         "32",
         "0",
         "0",
         "0",
         "0",
         "0",
         "0",
         "0",
         "52",
         "52",
         "0",
         "0",
         "36",
         "0",
         "0",
         "0",
         "0",
         "0",
         "0",
         "0",
         "52",
         "48",
         "0",
         "0",
         "32",
         "0",
         "0",
         "0",
         "0",
         "0",
         "0",
         "0",
         "56",
         "44",
         "0",
         "0",
         "32",
         "0",
         "0",
         "0",
         "0",
         "0",
         "0",
         "-0.2",
         "0.0",
         "6.1",
         "-1.0",
         "0.0",
         "0.0",
         "0.6",
         "2.1",
         "13.6",
         "30.8",
         "0.0",
         "0.0",
         "1.7",
         "-1.0",
         "0.6",
         "0.0",
         "1.3",
         "1.5",
         "3.7",
         "14.5",
         "0.1",
         "-5.2",
         "1.4",
         "0.0",
         "0.0",
         "0.0",
         "0.8",
         "-0.6",
         "-10.7",
         "-15.6",
         "0.4",
         "-3.9",
         "0.0",
         "0.0",
         "0.0",
         "0.0",
         "-0.8",
         "-1.7",
         "-10.1",
         "-22.0",
         "0.0",
         "0.0",
         "5.7",
         "-1.0",
         "0.0",
         "0.0",
         "-0.1",
         "1.2",
         "14.1",
         "22.5",
         "0.0",
         "-2.5",
         "0.8",
         "0.0",
         "0.0",
         "0.0",
         "1.0",
         "0.4",
         "-4.8",
         "-2.7",
         "0.1",
         "-6.0",
         "0.0",
         "0.0",
         "0.0",
         "0.0",
         "-0.8",
         "-0.6",
         "-24.0",
         "-29.7",
         "0.0",
         "0.0",
         "2.0",
         "-6.4",
         "0.0",
         "0.0",
         "0.2",
         "2.9",
         "-12.6",
         "15.2",
         "-0.1",
         "0.0",
         "8.4",
         "-10.0",
         "0.0",
         "0.0",
         "0.6",
         "5.9",
         "-3.9",
         "52.7",
         "-0.3",
         "0.0",
         "15.2",
         "-8.4",
         "0.0",
         "0.0",
         "0.9",
         "5.1",
         "17.7",
         "70.7",
         "-0.4",
         "0.0",
         "13.5",
         "-4.0",
         "0.0",
         "0.0",
         "0.9",
         "3.9",
         "25.5",
         "62.9",
         "-0.3",
         "0.0",
         "9.0",
         "-0.9",
         "0.0",
         "0.0",
         "0.9",
         "2.9",
         "23.3",
         "49.4",
         "8"
        ],
        [
         "1",
         "56",
         "1",
         "165",
         "64",
         "81",
         "174",
         "401",
         "149",
         "39",
         "25",
         "37",
         "-17",
         "31",
         "?",
         "53",
         "0",
         "48",
         "0",
         "0",
         "0",
         "24",
         "0",
         "0",
         "0",
         "0",
         "0",
         "0",
         "0",
         "64",
         "0",
         "0",
         "0",
         "24",
         "0",
         "0",
         "0",
         "0",
         "0",
         "0",
         "32",
         "24",
         "0",
         "0",
         "0",
         "40",
         "0",
         "0",
         "0",
         "0",
         "0",
         "0",
         "48",
         "0",
         "0",
         "0",
         "0",
         "0",
         "0",
         "0",
         "0",
         "0",
         "0",
         "0",
         "0",
         "44",
         "20",
         "0",
         "0",
         "24",
         "0",
         "0",
         "0",
         "0",
         "0",
         "0",
         "0",
         "60",
         "0",
         "0",
         "0",
         "20",
         "0",
         "0",
         "0",
         "0",
         "0",
         "0",
         "0",
         "24",
         "52",
         "0",
         "0",
         "16",
         "0",
         "0",
         "0",
         "0",
         "0",
         "0",
         "0",
         "32",
         "52",
         "0",
         "0",
         "20",
         "0",
         "0",
         "0",
         "0",
         "0",
         "0",
         "0",
         "44",
         "48",
         "0",
         "0",
         "32",
         "0",
         "0",
         "0",
         "0",
         "0",
         "0",
         "0",
         "48",
         "44",
         "0",
         "0",
         "32",
         "0",
         "0",
         "0",
         "0",
         "0",
         "0",
         "0",
         "48",
         "40",
         "0",
         "0",
         "28",
         "0",
         "0",
         "0",
         "0",
         "0",
         "0",
         "0",
         "48",
         "0",
         "0",
         "0",
         "28",
         "0",
         "0",
         "0",
         "0",
         "0",
         "0",
         "-0.6",
         "0.0",
         "7.2",
         "0.0",
         "0.0",
         "0.0",
         "0.4",
         "1.5",
         "17.2",
         "26.5",
         "0.0",
         "0.0",
         "5.5",
         "0.0",
         "0.0",
         "0.0",
         "0.1",
         "1.7",
         "17.6",
         "29.5",
         "0.3",
         "-1.6",
         "0.9",
         "0.0",
         "0.0",
         "0.0",
         "-0.3",
         "0.4",
         "-1.5",
         "1.3",
         "0.1",
         "-6.4",
         "0.0",
         "0.0",
         "0.0",
         "0.0",
         "-0.3",
         "-1.6",
         "-15.3",
         "-25.5",
         "-0.3",
         "0.0",
         "4.2",
         "-0.9",
         "0.0",
         "0.0",
         "0.4",
         "0.7",
         "8.3",
         "12.3",
         "0.2",
         "0.0",
         "2.2",
         "0.0",
         "0.0",
         "0.0",
         "-0.2",
         "0.8",
         "6.6",
         "11.7",
         "0.4",
         "0.0",
         "1.0",
         "-8.8",
         "0.0",
         "0.0",
         "0.5",
         "-0.6",
         "-21.6",
         "-26.8",
         "0.4",
         "0.0",
         "2.6",
         "-7.9",
         "0.0",
         "0.0",
         "0.8",
         "2.0",
         "-16.4",
         "1.2",
         "0.0",
         "0.0",
         "5.8",
         "-7.7",
         "0.0",
         "0.0",
         "0.9",
         "3.8",
         "-5.7",
         "27.7",
         "-0.2",
         "0.0",
         "9.5",
         "-5.0",
         "0.0",
         "0.0",
         "0.5",
         "2.6",
         "11.8",
         "34.6",
         "-0.4",
         "0.0",
         "11.0",
         "-2.4",
         "0.0",
         "0.0",
         "0.4",
         "2.6",
         "21.6",
         "43.4",
         "-0.5",
         "0.0",
         "8.5",
         "0.0",
         "0.0",
         "0.0",
         "0.2",
         "2.1",
         "20.4",
         "38.8",
         "6"
        ],
        [
         "2",
         "54",
         "0",
         "172",
         "95",
         "138",
         "163",
         "386",
         "185",
         "102",
         "96",
         "34",
         "70",
         "66",
         "23",
         "75",
         "0",
         "40",
         "80",
         "0",
         "0",
         "24",
         "0",
         "0",
         "0",
         "0",
         "0",
         "0",
         "20",
         "56",
         "52",
         "0",
         "0",
         "40",
         "0",
         "0",
         "0",
         "0",
         "0",
         "0",
         "28",
         "116",
         "0",
         "0",
         "0",
         "52",
         "0",
         "0",
         "0",
         "0",
         "0",
         "0",
         "52",
         "64",
         "0",
         "0",
         "0",
         "88",
         "0",
         "0",
         "0",
         "0",
         "0",
         "0",
         "0",
         "36",
         "92",
         "0",
         "0",
         "24",
         "0",
         "0",
         "0",
         "0",
         "0",
         "0",
         "0",
         "128",
         "0",
         "0",
         "0",
         "24",
         "0",
         "1",
         "0",
         "0",
         "0",
         "0",
         "0",
         "24",
         "36",
         "76",
         "0",
         "100",
         "0",
         "0",
         "0",
         "0",
         "0",
         "0",
         "0",
         "40",
         "28",
         "60",
         "0",
         "96",
         "0",
         "0",
         "0",
         "0",
         "0",
         "0",
         "0",
         "48",
         "20",
         "56",
         "24",
         "32",
         "0",
         "0",
         "0",
         "0",
         "0",
         "0",
         "0",
         "44",
         "88",
         "0",
         "0",
         "28",
         "0",
         "0",
         "0",
         "0",
         "0",
         "0",
         "0",
         "44",
         "76",
         "0",
         "0",
         "28",
         "0",
         "0",
         "0",
         "0",
         "0",
         "0",
         "0",
         "44",
         "72",
         "0",
         "0",
         "24",
         "0",
         "0",
         "0",
         "0",
         "0",
         "0",
         "1.0",
         "0.0",
         "4.5",
         "-2.8",
         "0.0",
         "0.0",
         "0.3",
         "2.5",
         "-2.2",
         "19.8",
         "0.8",
         "-0.4",
         "6.4",
         "-1.3",
         "0.0",
         "0.0",
         "0.7",
         "2.7",
         "14.2",
         "37.9",
         "-0.2",
         "-0.6",
         "4.4",
         "0.0",
         "0.0",
         "0.0",
         "0.5",
         "0.2",
         "24.7",
         "26.2",
         "-1.0",
         "-5.3",
         "1.8",
         "0.0",
         "0.0",
         "0.0",
         "-0.5",
         "-2.5",
         "-8.0",
         "-28.5",
         "0.5",
         "0.0",
         "1.7",
         "-2.7",
         "0.0",
         "0.0",
         "-0.2",
         "1.0",
         "-9.4",
         "-1.2",
         "0.4",
         "0.0",
         "4.9",
         "0.0",
         "0.0",
         "0.0",
         "0.6",
         "1.4",
         "31.3",
         "42.7",
         "-0.8",
         "0.0",
         "0.7",
         "-3.8",
         "6.5",
         "0.0",
         "0.3",
         "-3.3",
         "18.7",
         "-13.6",
         "-0.9",
         "0.0",
         "2.2",
         "-4.1",
         "7.4",
         "0.0",
         "0.5",
         "-2.4",
         "20.9",
         "-2.6",
         "0.0",
         "0.0",
         "5.8",
         "-4.1",
         "4.0",
         "-0.5",
         "0.4",
         "0.3",
         "20.4",
         "23.3",
         "0.7",
         "0.0",
         "10.0",
         "-5.7",
         "0.0",
         "0.0",
         "0.5",
         "2.2",
         "-3.0",
         "20.7",
         "1.3",
         "0.0",
         "11.1",
         "-3.4",
         "0.0",
         "0.0",
         "0.4",
         "3.4",
         "11.5",
         "48.2",
         "0.9",
         "0.0",
         "9.5",
         "-2.4",
         "0.0",
         "0.0",
         "0.3",
         "3.4",
         "12.3",
         "49.0",
         "10"
        ],
        [
         "3",
         "55",
         "0",
         "175",
         "94",
         "100",
         "202",
         "380",
         "179",
         "143",
         "28",
         "11",
         "-5",
         "20",
         "?",
         "71",
         "0",
         "72",
         "20",
         "0",
         "0",
         "48",
         "0",
         "0",
         "0",
         "0",
         "0",
         "0",
         "0",
         "64",
         "36",
         "0",
         "0",
         "36",
         "0",
         "0",
         "0",
         "0",
         "0",
         "0",
         "20",
         "52",
         "48",
         "0",
         "0",
         "56",
         "0",
         "0",
         "0",
         "0",
         "0",
         "0",
         "64",
         "32",
         "0",
         "0",
         "0",
         "72",
         "0",
         "0",
         "0",
         "0",
         "0",
         "0",
         "0",
         "60",
         "12",
         "0",
         "0",
         "44",
         "0",
         "0",
         "0",
         "0",
         "0",
         "0",
         "0",
         "60",
         "44",
         "0",
         "0",
         "32",
         "0",
         "0",
         "0",
         "0",
         "0",
         "0",
         "56",
         "0",
         "0",
         "0",
         "0",
         "0",
         "0",
         "0",
         "0",
         "0",
         "0",
         "0",
         "0",
         "40",
         "44",
         "0",
         "0",
         "20",
         "0",
         "0",
         "0",
         "0",
         "0",
         "0",
         "0",
         "52",
         "40",
         "0",
         "0",
         "32",
         "0",
         "0",
         "0",
         "0",
         "0",
         "0",
         "0",
         "56",
         "48",
         "0",
         "0",
         "36",
         "0",
         "0",
         "0",
         "0",
         "0",
         "0",
         "0",
         "60",
         "48",
         "0",
         "0",
         "36",
         "0",
         "0",
         "0",
         "0",
         "0",
         "0",
         "0",
         "64",
         "40",
         "0",
         "0",
         "40",
         "0",
         "0",
         "0",
         "0",
         "0",
         "0",
         "0.9",
         "0.0",
         "7.8",
         "-0.7",
         "0.0",
         "0.0",
         "1.1",
         "1.9",
         "27.3",
         "45.1",
         "0.1",
         "0.0",
         "9.1",
         "-2.6",
         "0.0",
         "0.0",
         "0.4",
         "1.5",
         "24.5",
         "36.8",
         "-0.4",
         "-0.4",
         "1.6",
         "-2.2",
         "0.0",
         "0.0",
         "-1.0",
         "-0.9",
         "-1.5",
         "-9.2",
         "-0.4",
         "-8.2",
         "1.8",
         "0.0",
         "0.0",
         "0.0",
         "-0.7",
         "-1.7",
         "-23.4",
         "-35.6",
         "0.9",
         "0.0",
         "3.2",
         "-0.4",
         "0.0",
         "0.0",
         "0.7",
         "1.2",
         "9.4",
         "18.0",
         "-0.1",
         "0.0",
         "5.1",
         "-2.5",
         "0.0",
         "0.0",
         "0.3",
         "0.6",
         "9.8",
         "12.6",
         "1.6",
         "-6.5",
         "0.0",
         "0.0",
         "0.0",
         "0.0",
         "-0.4",
         "-0.4",
         "-18.2",
         "-22.4",
         "2.1",
         "0.0",
         "1.2",
         "-6.9",
         "0.0",
         "0.0",
         "-0.5",
         "2.9",
         "-12.7",
         "18.0",
         "0.7",
         "0.0",
         "9.0",
         "-7.9",
         "0.0",
         "0.0",
         "0.1",
         "4.1",
         "7.6",
         "51.0",
         "0.4",
         "0.0",
         "15.0",
         "-5.5",
         "0.0",
         "0.0",
         "0.1",
         "3.3",
         "28.8",
         "63.1",
         "0.1",
         "0.0",
         "15.2",
         "-3.7",
         "0.0",
         "0.0",
         "0.6",
         "3.0",
         "36.8",
         "68.0",
         "0.1",
         "0.0",
         "12.2",
         "-2.2",
         "0.0",
         "0.0",
         "0.4",
         "2.6",
         "34.6",
         "61.6",
         "1"
        ]
       ],
       "shape": {
        "columns": 280,
        "rows": 4
       }
      },
      "text/html": [
       "<div>\n",
       "<style scoped>\n",
       "    .dataframe tbody tr th:only-of-type {\n",
       "        vertical-align: middle;\n",
       "    }\n",
       "\n",
       "    .dataframe tbody tr th {\n",
       "        vertical-align: top;\n",
       "    }\n",
       "\n",
       "    .dataframe thead th {\n",
       "        text-align: right;\n",
       "    }\n",
       "</style>\n",
       "<table border=\"1\" class=\"dataframe\">\n",
       "  <thead>\n",
       "    <tr style=\"text-align: right;\">\n",
       "      <th></th>\n",
       "      <th>0</th>\n",
       "      <th>1</th>\n",
       "      <th>2</th>\n",
       "      <th>3</th>\n",
       "      <th>4</th>\n",
       "      <th>5</th>\n",
       "      <th>6</th>\n",
       "      <th>7</th>\n",
       "      <th>8</th>\n",
       "      <th>9</th>\n",
       "      <th>...</th>\n",
       "      <th>270</th>\n",
       "      <th>271</th>\n",
       "      <th>272</th>\n",
       "      <th>273</th>\n",
       "      <th>274</th>\n",
       "      <th>275</th>\n",
       "      <th>276</th>\n",
       "      <th>277</th>\n",
       "      <th>278</th>\n",
       "      <th>279</th>\n",
       "    </tr>\n",
       "  </thead>\n",
       "  <tbody>\n",
       "    <tr>\n",
       "      <th>0</th>\n",
       "      <td>75</td>\n",
       "      <td>0</td>\n",
       "      <td>190</td>\n",
       "      <td>80</td>\n",
       "      <td>91</td>\n",
       "      <td>193</td>\n",
       "      <td>371</td>\n",
       "      <td>174</td>\n",
       "      <td>121</td>\n",
       "      <td>-16</td>\n",
       "      <td>...</td>\n",
       "      <td>0.0</td>\n",
       "      <td>9.0</td>\n",
       "      <td>-0.9</td>\n",
       "      <td>0.0</td>\n",
       "      <td>0.0</td>\n",
       "      <td>0.9</td>\n",
       "      <td>2.9</td>\n",
       "      <td>23.3</td>\n",
       "      <td>49.4</td>\n",
       "      <td>8</td>\n",
       "    </tr>\n",
       "    <tr>\n",
       "      <th>1</th>\n",
       "      <td>56</td>\n",
       "      <td>1</td>\n",
       "      <td>165</td>\n",
       "      <td>64</td>\n",
       "      <td>81</td>\n",
       "      <td>174</td>\n",
       "      <td>401</td>\n",
       "      <td>149</td>\n",
       "      <td>39</td>\n",
       "      <td>25</td>\n",
       "      <td>...</td>\n",
       "      <td>0.0</td>\n",
       "      <td>8.5</td>\n",
       "      <td>0.0</td>\n",
       "      <td>0.0</td>\n",
       "      <td>0.0</td>\n",
       "      <td>0.2</td>\n",
       "      <td>2.1</td>\n",
       "      <td>20.4</td>\n",
       "      <td>38.8</td>\n",
       "      <td>6</td>\n",
       "    </tr>\n",
       "    <tr>\n",
       "      <th>2</th>\n",
       "      <td>54</td>\n",
       "      <td>0</td>\n",
       "      <td>172</td>\n",
       "      <td>95</td>\n",
       "      <td>138</td>\n",
       "      <td>163</td>\n",
       "      <td>386</td>\n",
       "      <td>185</td>\n",
       "      <td>102</td>\n",
       "      <td>96</td>\n",
       "      <td>...</td>\n",
       "      <td>0.0</td>\n",
       "      <td>9.5</td>\n",
       "      <td>-2.4</td>\n",
       "      <td>0.0</td>\n",
       "      <td>0.0</td>\n",
       "      <td>0.3</td>\n",
       "      <td>3.4</td>\n",
       "      <td>12.3</td>\n",
       "      <td>49.0</td>\n",
       "      <td>10</td>\n",
       "    </tr>\n",
       "    <tr>\n",
       "      <th>3</th>\n",
       "      <td>55</td>\n",
       "      <td>0</td>\n",
       "      <td>175</td>\n",
       "      <td>94</td>\n",
       "      <td>100</td>\n",
       "      <td>202</td>\n",
       "      <td>380</td>\n",
       "      <td>179</td>\n",
       "      <td>143</td>\n",
       "      <td>28</td>\n",
       "      <td>...</td>\n",
       "      <td>0.0</td>\n",
       "      <td>12.2</td>\n",
       "      <td>-2.2</td>\n",
       "      <td>0.0</td>\n",
       "      <td>0.0</td>\n",
       "      <td>0.4</td>\n",
       "      <td>2.6</td>\n",
       "      <td>34.6</td>\n",
       "      <td>61.6</td>\n",
       "      <td>1</td>\n",
       "    </tr>\n",
       "  </tbody>\n",
       "</table>\n",
       "<p>4 rows × 280 columns</p>\n",
       "</div>"
      ],
      "text/plain": [
       "   0    1    2    3    4    5    6    7    8    9    ...  270   271  272  273  \\\n",
       "0   75    0  190   80   91  193  371  174  121  -16  ...  0.0   9.0 -0.9  0.0   \n",
       "1   56    1  165   64   81  174  401  149   39   25  ...  0.0   8.5  0.0  0.0   \n",
       "2   54    0  172   95  138  163  386  185  102   96  ...  0.0   9.5 -2.4  0.0   \n",
       "3   55    0  175   94  100  202  380  179  143   28  ...  0.0  12.2 -2.2  0.0   \n",
       "\n",
       "   274  275  276   277   278  279  \n",
       "0  0.0  0.9  2.9  23.3  49.4    8  \n",
       "1  0.0  0.2  2.1  20.4  38.8    6  \n",
       "2  0.0  0.3  3.4  12.3  49.0   10  \n",
       "3  0.0  0.4  2.6  34.6  61.6    1  \n",
       "\n",
       "[4 rows x 280 columns]"
      ]
     },
     "execution_count": 7,
     "metadata": {},
     "output_type": "execute_result"
    }
   ],
   "source": [
    "data = pd.read_csv(r\"../data/arrhythmia.csv\", header = None)\n",
    "data.head(4)"
   ]
  },
  {
   "cell_type": "markdown",
   "id": "e175b460",
   "metadata": {},
   "source": [
    "## 💡 تفاصيل الخصائص (Attributes)\n",
    "\n",
    "### ✅ أمثلة من الخصائص العامة:\n",
    "\n",
    "1. `Age` — السن  \n",
    "2. `Sex` — الجنس (0 = ذكر، 1 = أنثى)  \n",
    "3. `Height`, `Weight` — الطول والوزن  \n",
    "4. `Heart rate` — معدل ضربات القلب في الدقيقة  \n",
    "5. `QRS duration`, `P-R interval`, `Q-T interval` — فترات ECG (خصائص نشاط القلب الكهربائي)\n",
    "\n",
    "---\n",
    "\n",
    "### ✅ خصائص قنوات ECG:\n",
    "\n",
    "تشير القنوات مثل <br>\n",
    "`DI`, `DII`, `DIII`, `AVR`, `AVL`, `AVF`, `V1`, `V6`<br>\n",
    "(ECG)إلى نقاط مختلفة على الجسم تُستخدم لقياس الإشارات الكهربائية للقلب عبر جهاز  \n",
    "\n",
    "كل قناة تحتوي على خصائص متعددة:\n",
    "\n",
    "- **الزمن (Duration)** و**السعة (Amplitude)** للموجات:  \n",
    "  - `P wave`, `Q wave`, `R wave`, `S wave`, `T wave`, `R'`, `S'`, و هكذا\n",
    "\n",
    "- **خصائص شكلية (Morphological):**  \n",
    "  - هل الموجة `diphasic`, `ragged`, `notched`, أو غير طبيعية؟  \n",
    "  - وجود انقلابات في الموجات (Inverted waves)\n",
    "\n",
    "- **مقاييس إضافية لكل قناة:**  \n",
    "  - `QRSA`: المساحة تحت منحنى QRS  \n",
    "  - `QRSTA`: المساحة بين QRS و T  \n",
    "  - `QRS axis` و `T axis`: زاوية محور الإشارة\n",
    "\n",
    "> ⚠️ بعض الخصائص موجودة في بعض القنوات فقط وليست كلها، وهناك خصائص مفقودة أو غير متوفرة (`?`).\n",
    "\n",
    "---"
   ]
  },
  {
   "cell_type": "code",
   "execution_count": 14,
   "id": "30e80f73",
   "metadata": {},
   "outputs": [],
   "source": [
    "with open(\"../data/arrhythmia_columns.md\", \"r\", encoding=\"utf-8\") as f:\n",
    "    lines = f.readlines()\n",
    "\n",
    "columns = [\n",
    "    line.strip('- \\n') for line in lines\n",
    "    if line.startswith('- ') and not any(x in line for x in ['###', '##', '*', '—'])\n",
    "]\n",
    "\n",
    "columns = columns[:280]\n",
    "\n",
    "data.columns = columns"
   ]
  },
  {
   "cell_type": "code",
   "execution_count": 15,
   "id": "ffe97e1a",
   "metadata": {},
   "outputs": [
    {
     "data": {
      "application/vnd.microsoft.datawrangler.viewer.v0+json": {
       "columns": [
        {
         "name": "index",
         "rawType": "int64",
         "type": "integer"
        },
        {
         "name": "age",
         "rawType": "int64",
         "type": "integer"
        },
        {
         "name": "sex",
         "rawType": "int64",
         "type": "integer"
        },
        {
         "name": "height",
         "rawType": "int64",
         "type": "integer"
        },
        {
         "name": "weight",
         "rawType": "int64",
         "type": "integer"
        },
        {
         "name": "qrs_duration",
         "rawType": "int64",
         "type": "integer"
        },
        {
         "name": "pr_interval",
         "rawType": "int64",
         "type": "integer"
        },
        {
         "name": "qt_interval",
         "rawType": "int64",
         "type": "integer"
        },
        {
         "name": "t_interval",
         "rawType": "int64",
         "type": "integer"
        },
        {
         "name": "p_interval",
         "rawType": "int64",
         "type": "integer"
        },
        {
         "name": "qrs_angle",
         "rawType": "int64",
         "type": "integer"
        },
        {
         "name": "t_angle",
         "rawType": "object",
         "type": "string"
        },
        {
         "name": "p_angle",
         "rawType": "object",
         "type": "string"
        },
        {
         "name": "qrst_angle",
         "rawType": "object",
         "type": "string"
        },
        {
         "name": "j_angle",
         "rawType": "object",
         "type": "string"
        },
        {
         "name": "heart_rate",
         "rawType": "object",
         "type": "string"
        },
        {
         "name": "q_DI",
         "rawType": "int64",
         "type": "integer"
        },
        {
         "name": "r_DI",
         "rawType": "int64",
         "type": "integer"
        },
        {
         "name": "s_DI",
         "rawType": "int64",
         "type": "integer"
        },
        {
         "name": "r'_DI",
         "rawType": "int64",
         "type": "integer"
        },
        {
         "name": "s'_DI",
         "rawType": "int64",
         "type": "integer"
        },
        {
         "name": "intrinsic_deflections_DI",
         "rawType": "int64",
         "type": "integer"
        },
        {
         "name": "ragged_r_DI",
         "rawType": "int64",
         "type": "integer"
        },
        {
         "name": "diphasic_r_DI",
         "rawType": "int64",
         "type": "integer"
        },
        {
         "name": "ragged_p_DI",
         "rawType": "int64",
         "type": "integer"
        },
        {
         "name": "diphasic_p_DI",
         "rawType": "int64",
         "type": "integer"
        },
        {
         "name": "ragged_t_DI",
         "rawType": "int64",
         "type": "integer"
        },
        {
         "name": "diphasic_t_DI",
         "rawType": "int64",
         "type": "integer"
        },
        {
         "name": "q_DII",
         "rawType": "int64",
         "type": "integer"
        },
        {
         "name": "r_DII",
         "rawType": "int64",
         "type": "integer"
        },
        {
         "name": "s_DII",
         "rawType": "int64",
         "type": "integer"
        },
        {
         "name": "r'_DII",
         "rawType": "int64",
         "type": "integer"
        },
        {
         "name": "s'_DII",
         "rawType": "int64",
         "type": "integer"
        },
        {
         "name": "intrinsic_deflections_DII",
         "rawType": "int64",
         "type": "integer"
        },
        {
         "name": "ragged_r_DII",
         "rawType": "int64",
         "type": "integer"
        },
        {
         "name": "diphasic_r_DII",
         "rawType": "int64",
         "type": "integer"
        },
        {
         "name": "ragged_p_DII",
         "rawType": "int64",
         "type": "integer"
        },
        {
         "name": "diphasic_p_DII",
         "rawType": "int64",
         "type": "integer"
        },
        {
         "name": "ragged_t_DII",
         "rawType": "int64",
         "type": "integer"
        },
        {
         "name": "diphasic_t_DII",
         "rawType": "int64",
         "type": "integer"
        },
        {
         "name": "q_DIII",
         "rawType": "int64",
         "type": "integer"
        },
        {
         "name": "r_DIII",
         "rawType": "int64",
         "type": "integer"
        },
        {
         "name": "s_DIII",
         "rawType": "int64",
         "type": "integer"
        },
        {
         "name": "r'_DIII",
         "rawType": "int64",
         "type": "integer"
        },
        {
         "name": "s'_DIII",
         "rawType": "int64",
         "type": "integer"
        },
        {
         "name": "intrinsic_deflections_DIII",
         "rawType": "int64",
         "type": "integer"
        },
        {
         "name": "ragged_r_DIII",
         "rawType": "int64",
         "type": "integer"
        },
        {
         "name": "diphasic_r_DIII",
         "rawType": "int64",
         "type": "integer"
        },
        {
         "name": "ragged_p_DIII",
         "rawType": "int64",
         "type": "integer"
        },
        {
         "name": "diphasic_p_DIII",
         "rawType": "int64",
         "type": "integer"
        },
        {
         "name": "ragged_t_DIII",
         "rawType": "int64",
         "type": "integer"
        },
        {
         "name": "diphasic_t_DIII",
         "rawType": "int64",
         "type": "integer"
        },
        {
         "name": "q_AVR",
         "rawType": "int64",
         "type": "integer"
        },
        {
         "name": "r_AVR",
         "rawType": "int64",
         "type": "integer"
        },
        {
         "name": "s_AVR",
         "rawType": "int64",
         "type": "integer"
        },
        {
         "name": "r'_AVR",
         "rawType": "int64",
         "type": "integer"
        },
        {
         "name": "s'_AVR",
         "rawType": "int64",
         "type": "integer"
        },
        {
         "name": "intrinsic_deflections_AVR",
         "rawType": "int64",
         "type": "integer"
        },
        {
         "name": "ragged_r_AVR",
         "rawType": "int64",
         "type": "integer"
        },
        {
         "name": "diphasic_r_AVR",
         "rawType": "int64",
         "type": "integer"
        },
        {
         "name": "ragged_p_AVR",
         "rawType": "int64",
         "type": "integer"
        },
        {
         "name": "diphasic_p_AVR",
         "rawType": "int64",
         "type": "integer"
        },
        {
         "name": "ragged_t_AVR",
         "rawType": "int64",
         "type": "integer"
        },
        {
         "name": "diphasic_t_AVR",
         "rawType": "int64",
         "type": "integer"
        },
        {
         "name": "q_AVL",
         "rawType": "int64",
         "type": "integer"
        },
        {
         "name": "r_AVL",
         "rawType": "int64",
         "type": "integer"
        },
        {
         "name": "s_AVL",
         "rawType": "int64",
         "type": "integer"
        },
        {
         "name": "r'_AVL",
         "rawType": "int64",
         "type": "integer"
        },
        {
         "name": "s'_AVL",
         "rawType": "int64",
         "type": "integer"
        },
        {
         "name": "intrinsic_deflections_AVL",
         "rawType": "int64",
         "type": "integer"
        },
        {
         "name": "ragged_r_AVL",
         "rawType": "int64",
         "type": "integer"
        },
        {
         "name": "diphasic_r_AVL",
         "rawType": "int64",
         "type": "integer"
        },
        {
         "name": "ragged_p_AVL",
         "rawType": "int64",
         "type": "integer"
        },
        {
         "name": "diphasic_p_AVL",
         "rawType": "int64",
         "type": "integer"
        },
        {
         "name": "ragged_t_AVL",
         "rawType": "int64",
         "type": "integer"
        },
        {
         "name": "diphasic_t_AVL",
         "rawType": "int64",
         "type": "integer"
        },
        {
         "name": "q_AVF",
         "rawType": "int64",
         "type": "integer"
        },
        {
         "name": "r_AVF",
         "rawType": "int64",
         "type": "integer"
        },
        {
         "name": "s_AVF",
         "rawType": "int64",
         "type": "integer"
        },
        {
         "name": "r'_AVF",
         "rawType": "int64",
         "type": "integer"
        },
        {
         "name": "s'_AVF",
         "rawType": "int64",
         "type": "integer"
        },
        {
         "name": "intrinsic_deflections_AVF",
         "rawType": "int64",
         "type": "integer"
        },
        {
         "name": "ragged_r_AVF",
         "rawType": "int64",
         "type": "integer"
        },
        {
         "name": "diphasic_r_AVF",
         "rawType": "int64",
         "type": "integer"
        },
        {
         "name": "ragged_p_AVF",
         "rawType": "int64",
         "type": "integer"
        },
        {
         "name": "diphasic_p_AVF",
         "rawType": "int64",
         "type": "integer"
        },
        {
         "name": "ragged_t_AVF",
         "rawType": "int64",
         "type": "integer"
        },
        {
         "name": "diphasic_t_AVF",
         "rawType": "int64",
         "type": "integer"
        },
        {
         "name": "q_V1",
         "rawType": "int64",
         "type": "integer"
        },
        {
         "name": "r_V1",
         "rawType": "int64",
         "type": "integer"
        },
        {
         "name": "s_V1",
         "rawType": "int64",
         "type": "integer"
        },
        {
         "name": "r'_V1",
         "rawType": "int64",
         "type": "integer"
        },
        {
         "name": "s'_V1",
         "rawType": "int64",
         "type": "integer"
        },
        {
         "name": "intrinsic_deflections_V1",
         "rawType": "int64",
         "type": "integer"
        },
        {
         "name": "ragged_r_V1",
         "rawType": "int64",
         "type": "integer"
        },
        {
         "name": "diphasic_r_V1",
         "rawType": "int64",
         "type": "integer"
        },
        {
         "name": "ragged_p_V1",
         "rawType": "int64",
         "type": "integer"
        },
        {
         "name": "diphasic_p_V1",
         "rawType": "int64",
         "type": "integer"
        },
        {
         "name": "ragged_t_V1",
         "rawType": "int64",
         "type": "integer"
        },
        {
         "name": "diphasic_t_V1",
         "rawType": "int64",
         "type": "integer"
        },
        {
         "name": "q_V2",
         "rawType": "int64",
         "type": "integer"
        },
        {
         "name": "r_V2",
         "rawType": "int64",
         "type": "integer"
        },
        {
         "name": "s_V2",
         "rawType": "int64",
         "type": "integer"
        },
        {
         "name": "r'_V2",
         "rawType": "int64",
         "type": "integer"
        },
        {
         "name": "s'_V2",
         "rawType": "int64",
         "type": "integer"
        },
        {
         "name": "intrinsic_deflections_V2",
         "rawType": "int64",
         "type": "integer"
        },
        {
         "name": "ragged_r_V2",
         "rawType": "int64",
         "type": "integer"
        },
        {
         "name": "diphasic_r_V2",
         "rawType": "int64",
         "type": "integer"
        },
        {
         "name": "ragged_p_V2",
         "rawType": "int64",
         "type": "integer"
        },
        {
         "name": "diphasic_p_V2",
         "rawType": "int64",
         "type": "integer"
        },
        {
         "name": "ragged_t_V2",
         "rawType": "int64",
         "type": "integer"
        },
        {
         "name": "diphasic_t_V2",
         "rawType": "int64",
         "type": "integer"
        },
        {
         "name": "q_V3",
         "rawType": "int64",
         "type": "integer"
        },
        {
         "name": "r_V3",
         "rawType": "int64",
         "type": "integer"
        },
        {
         "name": "s_V3",
         "rawType": "int64",
         "type": "integer"
        },
        {
         "name": "r'_V3",
         "rawType": "int64",
         "type": "integer"
        },
        {
         "name": "s'_V3",
         "rawType": "int64",
         "type": "integer"
        },
        {
         "name": "intrinsic_deflections_V3",
         "rawType": "int64",
         "type": "integer"
        },
        {
         "name": "ragged_r_V3",
         "rawType": "int64",
         "type": "integer"
        },
        {
         "name": "diphasic_r_V3",
         "rawType": "int64",
         "type": "integer"
        },
        {
         "name": "ragged_p_V3",
         "rawType": "int64",
         "type": "integer"
        },
        {
         "name": "diphasic_p_V3",
         "rawType": "int64",
         "type": "integer"
        },
        {
         "name": "ragged_t_V3",
         "rawType": "int64",
         "type": "integer"
        },
        {
         "name": "diphasic_t_V3",
         "rawType": "int64",
         "type": "integer"
        },
        {
         "name": "q_V4",
         "rawType": "int64",
         "type": "integer"
        },
        {
         "name": "r_V4",
         "rawType": "int64",
         "type": "integer"
        },
        {
         "name": "s_V4",
         "rawType": "int64",
         "type": "integer"
        },
        {
         "name": "r'_V4",
         "rawType": "int64",
         "type": "integer"
        },
        {
         "name": "s'_V4",
         "rawType": "int64",
         "type": "integer"
        },
        {
         "name": "intrinsic_deflections_V4",
         "rawType": "int64",
         "type": "integer"
        },
        {
         "name": "ragged_r_V4",
         "rawType": "int64",
         "type": "integer"
        },
        {
         "name": "diphasic_r_V4",
         "rawType": "int64",
         "type": "integer"
        },
        {
         "name": "ragged_p_V4",
         "rawType": "int64",
         "type": "integer"
        },
        {
         "name": "diphasic_p_V4",
         "rawType": "int64",
         "type": "integer"
        },
        {
         "name": "ragged_t_V4",
         "rawType": "int64",
         "type": "integer"
        },
        {
         "name": "diphasic_t_V4",
         "rawType": "int64",
         "type": "integer"
        },
        {
         "name": "q_V5",
         "rawType": "int64",
         "type": "integer"
        },
        {
         "name": "r_V5",
         "rawType": "int64",
         "type": "integer"
        },
        {
         "name": "s_V5",
         "rawType": "int64",
         "type": "integer"
        },
        {
         "name": "r'_V5",
         "rawType": "int64",
         "type": "integer"
        },
        {
         "name": "s'_V5",
         "rawType": "int64",
         "type": "integer"
        },
        {
         "name": "intrinsic_deflections_V5",
         "rawType": "int64",
         "type": "integer"
        },
        {
         "name": "ragged_r_V5",
         "rawType": "int64",
         "type": "integer"
        },
        {
         "name": "diphasic_r_V5",
         "rawType": "int64",
         "type": "integer"
        },
        {
         "name": "ragged_p_V5",
         "rawType": "int64",
         "type": "integer"
        },
        {
         "name": "diphasic_p_V5",
         "rawType": "int64",
         "type": "integer"
        },
        {
         "name": "ragged_t_V5",
         "rawType": "int64",
         "type": "integer"
        },
        {
         "name": "diphasic_t_V5",
         "rawType": "int64",
         "type": "integer"
        },
        {
         "name": "q_V6",
         "rawType": "int64",
         "type": "integer"
        },
        {
         "name": "r_V6",
         "rawType": "int64",
         "type": "integer"
        },
        {
         "name": "s_V6",
         "rawType": "int64",
         "type": "integer"
        },
        {
         "name": "r'_V6",
         "rawType": "int64",
         "type": "integer"
        },
        {
         "name": "s'_V6",
         "rawType": "int64",
         "type": "integer"
        },
        {
         "name": "intrinsic_deflections_V6",
         "rawType": "int64",
         "type": "integer"
        },
        {
         "name": "ragged_r_V6",
         "rawType": "int64",
         "type": "integer"
        },
        {
         "name": "diphasic_r_V6",
         "rawType": "int64",
         "type": "integer"
        },
        {
         "name": "ragged_p_V6",
         "rawType": "int64",
         "type": "integer"
        },
        {
         "name": "diphasic_p_V6",
         "rawType": "int64",
         "type": "integer"
        },
        {
         "name": "ragged_t_V6",
         "rawType": "int64",
         "type": "integer"
        },
        {
         "name": "diphasic_t_V6",
         "rawType": "int64",
         "type": "integer"
        },
        {
         "name": "jj_amp_DI",
         "rawType": "float64",
         "type": "float"
        },
        {
         "name": "q_amp_DI",
         "rawType": "float64",
         "type": "float"
        },
        {
         "name": "r_amp_DI",
         "rawType": "float64",
         "type": "float"
        },
        {
         "name": "s_amp_DI",
         "rawType": "float64",
         "type": "float"
        },
        {
         "name": "r'_amp_DI",
         "rawType": "float64",
         "type": "float"
        },
        {
         "name": "s'_amp_DI",
         "rawType": "float64",
         "type": "float"
        },
        {
         "name": "p_amp_DI",
         "rawType": "float64",
         "type": "float"
        },
        {
         "name": "t_amp_DI",
         "rawType": "float64",
         "type": "float"
        },
        {
         "name": "qrsa_DI",
         "rawType": "float64",
         "type": "float"
        },
        {
         "name": "qrsta_DI",
         "rawType": "float64",
         "type": "float"
        },
        {
         "name": "jj_amp_DII",
         "rawType": "float64",
         "type": "float"
        },
        {
         "name": "q_amp_DII",
         "rawType": "float64",
         "type": "float"
        },
        {
         "name": "r_amp_DII",
         "rawType": "float64",
         "type": "float"
        },
        {
         "name": "s_amp_DII",
         "rawType": "float64",
         "type": "float"
        },
        {
         "name": "r'_amp_DII",
         "rawType": "float64",
         "type": "float"
        },
        {
         "name": "s'_amp_DII",
         "rawType": "float64",
         "type": "float"
        },
        {
         "name": "p_amp_DII",
         "rawType": "float64",
         "type": "float"
        },
        {
         "name": "t_amp_DII",
         "rawType": "float64",
         "type": "float"
        },
        {
         "name": "qrsa_DII",
         "rawType": "float64",
         "type": "float"
        },
        {
         "name": "qrsta_DII",
         "rawType": "float64",
         "type": "float"
        },
        {
         "name": "jj_amp_DIII",
         "rawType": "float64",
         "type": "float"
        },
        {
         "name": "q_amp_DIII",
         "rawType": "float64",
         "type": "float"
        },
        {
         "name": "r_amp_DIII",
         "rawType": "float64",
         "type": "float"
        },
        {
         "name": "s_amp_DIII",
         "rawType": "float64",
         "type": "float"
        },
        {
         "name": "r'_amp_DIII",
         "rawType": "float64",
         "type": "float"
        },
        {
         "name": "s'_amp_DIII",
         "rawType": "float64",
         "type": "float"
        },
        {
         "name": "p_amp_DIII",
         "rawType": "float64",
         "type": "float"
        },
        {
         "name": "t_amp_DIII",
         "rawType": "float64",
         "type": "float"
        },
        {
         "name": "qrsa_DIII",
         "rawType": "float64",
         "type": "float"
        },
        {
         "name": "qrsta_DIII",
         "rawType": "float64",
         "type": "float"
        },
        {
         "name": "jj_amp_DII",
         "rawType": "float64",
         "type": "float"
        },
        {
         "name": "q_amp_DII",
         "rawType": "float64",
         "type": "float"
        },
        {
         "name": "r_amp_DII",
         "rawType": "float64",
         "type": "float"
        },
        {
         "name": "s_amp_DII",
         "rawType": "float64",
         "type": "float"
        },
        {
         "name": "r'_amp_DII",
         "rawType": "float64",
         "type": "float"
        },
        {
         "name": "s'_amp_DII",
         "rawType": "float64",
         "type": "float"
        },
        {
         "name": "p_amp_DII",
         "rawType": "float64",
         "type": "float"
        },
        {
         "name": "t_amp_DII",
         "rawType": "float64",
         "type": "float"
        },
        {
         "name": "qrsa_DII",
         "rawType": "float64",
         "type": "float"
        },
        {
         "name": "qrsta_DII",
         "rawType": "float64",
         "type": "float"
        },
        {
         "name": "jj_amp_DIII",
         "rawType": "float64",
         "type": "float"
        },
        {
         "name": "q_amp_DIII",
         "rawType": "float64",
         "type": "float"
        },
        {
         "name": "r_amp_DIII",
         "rawType": "float64",
         "type": "float"
        },
        {
         "name": "s_amp_DIII",
         "rawType": "float64",
         "type": "float"
        },
        {
         "name": "r'_amp_DIII",
         "rawType": "float64",
         "type": "float"
        },
        {
         "name": "s'_amp_DIII",
         "rawType": "float64",
         "type": "float"
        },
        {
         "name": "p_amp_DIII",
         "rawType": "float64",
         "type": "float"
        },
        {
         "name": "t_amp_DIII",
         "rawType": "float64",
         "type": "float"
        },
        {
         "name": "qrsa_DIII",
         "rawType": "float64",
         "type": "float"
        },
        {
         "name": "qrsta_DIII",
         "rawType": "float64",
         "type": "float"
        },
        {
         "name": "jj_amp_DIII",
         "rawType": "float64",
         "type": "float"
        },
        {
         "name": "q_amp_DIII",
         "rawType": "float64",
         "type": "float"
        },
        {
         "name": "r_amp_DIII",
         "rawType": "float64",
         "type": "float"
        },
        {
         "name": "s_amp_DIII",
         "rawType": "float64",
         "type": "float"
        },
        {
         "name": "r'_amp_DIII",
         "rawType": "float64",
         "type": "float"
        },
        {
         "name": "s'_amp_DIII",
         "rawType": "float64",
         "type": "float"
        },
        {
         "name": "p_amp_DIII",
         "rawType": "float64",
         "type": "float"
        },
        {
         "name": "t_amp_DIII",
         "rawType": "float64",
         "type": "float"
        },
        {
         "name": "qrsa_DIII",
         "rawType": "float64",
         "type": "float"
        },
        {
         "name": "qrsta_DIII",
         "rawType": "float64",
         "type": "float"
        },
        {
         "name": "jj_amp_AVR",
         "rawType": "float64",
         "type": "float"
        },
        {
         "name": "q_amp_AVR",
         "rawType": "float64",
         "type": "float"
        },
        {
         "name": "r_amp_AVR",
         "rawType": "float64",
         "type": "float"
        },
        {
         "name": "s_amp_AVR",
         "rawType": "float64",
         "type": "float"
        },
        {
         "name": "r'_amp_AVR",
         "rawType": "float64",
         "type": "float"
        },
        {
         "name": "s'_amp_AVR",
         "rawType": "float64",
         "type": "float"
        },
        {
         "name": "p_amp_AVR",
         "rawType": "float64",
         "type": "float"
        },
        {
         "name": "t_amp_AVR",
         "rawType": "float64",
         "type": "float"
        },
        {
         "name": "qrsa_AVR",
         "rawType": "float64",
         "type": "float"
        },
        {
         "name": "qrsta_AVR",
         "rawType": "float64",
         "type": "float"
        },
        {
         "name": "jj_amp_AVL",
         "rawType": "float64",
         "type": "float"
        },
        {
         "name": "q_amp_AVL",
         "rawType": "float64",
         "type": "float"
        },
        {
         "name": "r_amp_AVL",
         "rawType": "float64",
         "type": "float"
        },
        {
         "name": "s_amp_AVL",
         "rawType": "float64",
         "type": "float"
        },
        {
         "name": "r'_amp_AVL",
         "rawType": "float64",
         "type": "float"
        },
        {
         "name": "s'_amp_AVL",
         "rawType": "float64",
         "type": "float"
        },
        {
         "name": "p_amp_AVL",
         "rawType": "float64",
         "type": "float"
        },
        {
         "name": "t_amp_AVL",
         "rawType": "float64",
         "type": "float"
        },
        {
         "name": "qrsa_AVL",
         "rawType": "float64",
         "type": "float"
        },
        {
         "name": "qrsta_AVL",
         "rawType": "float64",
         "type": "float"
        },
        {
         "name": "jj_amp_AVF",
         "rawType": "float64",
         "type": "float"
        },
        {
         "name": "q_amp_AVF",
         "rawType": "float64",
         "type": "float"
        },
        {
         "name": "r_amp_AVF",
         "rawType": "float64",
         "type": "float"
        },
        {
         "name": "s_amp_AVF",
         "rawType": "float64",
         "type": "float"
        },
        {
         "name": "r'_amp_AVF",
         "rawType": "float64",
         "type": "float"
        },
        {
         "name": "s'_amp_AVF",
         "rawType": "float64",
         "type": "float"
        },
        {
         "name": "p_amp_AVF",
         "rawType": "float64",
         "type": "float"
        },
        {
         "name": "t_amp_AVF",
         "rawType": "float64",
         "type": "float"
        },
        {
         "name": "qrsa_AVF",
         "rawType": "float64",
         "type": "float"
        },
        {
         "name": "qrsta_AVF",
         "rawType": "float64",
         "type": "float"
        },
        {
         "name": "jj_amp_V1",
         "rawType": "float64",
         "type": "float"
        },
        {
         "name": "q_amp_V1",
         "rawType": "float64",
         "type": "float"
        },
        {
         "name": "r_amp_V1",
         "rawType": "float64",
         "type": "float"
        },
        {
         "name": "s_amp_V1",
         "rawType": "float64",
         "type": "float"
        },
        {
         "name": "r'_amp_V1",
         "rawType": "float64",
         "type": "float"
        },
        {
         "name": "s'_amp_V1",
         "rawType": "float64",
         "type": "float"
        },
        {
         "name": "p_amp_V1",
         "rawType": "float64",
         "type": "float"
        },
        {
         "name": "t_amp_V1",
         "rawType": "float64",
         "type": "float"
        },
        {
         "name": "qrsa_V1",
         "rawType": "float64",
         "type": "float"
        },
        {
         "name": "qrsta_V1",
         "rawType": "float64",
         "type": "float"
        },
        {
         "name": "jj_amp_V2",
         "rawType": "float64",
         "type": "float"
        },
        {
         "name": "q_amp_V2",
         "rawType": "float64",
         "type": "float"
        },
        {
         "name": "r_amp_V2",
         "rawType": "float64",
         "type": "float"
        },
        {
         "name": "s_amp_V2",
         "rawType": "float64",
         "type": "float"
        },
        {
         "name": "r'_amp_V2",
         "rawType": "float64",
         "type": "float"
        },
        {
         "name": "s'_amp_V2",
         "rawType": "float64",
         "type": "float"
        },
        {
         "name": "p_amp_V2",
         "rawType": "float64",
         "type": "float"
        },
        {
         "name": "t_amp_V2",
         "rawType": "float64",
         "type": "float"
        },
        {
         "name": "qrsa_V2",
         "rawType": "float64",
         "type": "float"
        },
        {
         "name": "qrsta_V2",
         "rawType": "float64",
         "type": "float"
        },
        {
         "name": "jj_amp_V3",
         "rawType": "float64",
         "type": "float"
        },
        {
         "name": "q_amp_V3",
         "rawType": "float64",
         "type": "float"
        },
        {
         "name": "r_amp_V3",
         "rawType": "float64",
         "type": "float"
        },
        {
         "name": "s_amp_V3",
         "rawType": "float64",
         "type": "float"
        },
        {
         "name": "r'_amp_V3",
         "rawType": "float64",
         "type": "float"
        },
        {
         "name": "s'_amp_V3",
         "rawType": "float64",
         "type": "float"
        },
        {
         "name": "p_amp_V3",
         "rawType": "float64",
         "type": "float"
        },
        {
         "name": "t_amp_V3",
         "rawType": "float64",
         "type": "float"
        },
        {
         "name": "qrsa_V3",
         "rawType": "float64",
         "type": "float"
        },
        {
         "name": "qrsta_V3",
         "rawType": "float64",
         "type": "float"
        },
        {
         "name": "jj_amp_V4",
         "rawType": "int64",
         "type": "integer"
        }
       ],
       "ref": "b27957c6-983d-4b89-a861-43246eae8418",
       "rows": [
        [
         "0",
         "75",
         "0",
         "190",
         "80",
         "91",
         "193",
         "371",
         "174",
         "121",
         "-16",
         "13",
         "64",
         "-2",
         "?",
         "63",
         "0",
         "52",
         "44",
         "0",
         "0",
         "32",
         "0",
         "0",
         "0",
         "0",
         "0",
         "0",
         "0",
         "44",
         "20",
         "36",
         "0",
         "28",
         "0",
         "0",
         "0",
         "0",
         "0",
         "0",
         "52",
         "40",
         "0",
         "0",
         "0",
         "60",
         "0",
         "0",
         "0",
         "0",
         "0",
         "0",
         "52",
         "0",
         "0",
         "0",
         "0",
         "0",
         "0",
         "0",
         "0",
         "0",
         "0",
         "0",
         "0",
         "56",
         "36",
         "0",
         "0",
         "32",
         "0",
         "0",
         "0",
         "0",
         "0",
         "0",
         "48",
         "32",
         "0",
         "0",
         "0",
         "56",
         "0",
         "0",
         "0",
         "0",
         "0",
         "0",
         "80",
         "0",
         "0",
         "0",
         "0",
         "0",
         "0",
         "0",
         "0",
         "0",
         "0",
         "0",
         "0",
         "40",
         "52",
         "0",
         "0",
         "28",
         "0",
         "0",
         "0",
         "0",
         "0",
         "0",
         "0",
         "48",
         "48",
         "0",
         "0",
         "32",
         "0",
         "0",
         "0",
         "0",
         "0",
         "0",
         "0",
         "52",
         "52",
         "0",
         "0",
         "36",
         "0",
         "0",
         "0",
         "0",
         "0",
         "0",
         "0",
         "52",
         "48",
         "0",
         "0",
         "32",
         "0",
         "0",
         "0",
         "0",
         "0",
         "0",
         "0",
         "56",
         "44",
         "0",
         "0",
         "32",
         "0",
         "0",
         "0",
         "0",
         "0",
         "0",
         "-0.2",
         "0.0",
         "6.1",
         "-1.0",
         "0.0",
         "0.0",
         "0.6",
         "2.1",
         "13.6",
         "30.8",
         "0.0",
         "0.0",
         "1.7",
         "-1.0",
         "0.6",
         "0.0",
         "1.3",
         "1.5",
         "3.7",
         "14.5",
         "0.1",
         "-5.2",
         "1.4",
         "0.0",
         "0.0",
         "0.0",
         "0.8",
         "-0.6",
         "-10.7",
         "-15.6",
         "0.4",
         "-3.9",
         "0.0",
         "0.0",
         "0.0",
         "0.0",
         "-0.8",
         "-1.7",
         "-10.1",
         "-22.0",
         "0.0",
         "0.0",
         "5.7",
         "-1.0",
         "0.0",
         "0.0",
         "-0.1",
         "1.2",
         "14.1",
         "22.5",
         "0.0",
         "-2.5",
         "0.8",
         "0.0",
         "0.0",
         "0.0",
         "1.0",
         "0.4",
         "-4.8",
         "-2.7",
         "0.1",
         "-6.0",
         "0.0",
         "0.0",
         "0.0",
         "0.0",
         "-0.8",
         "-0.6",
         "-24.0",
         "-29.7",
         "0.0",
         "0.0",
         "2.0",
         "-6.4",
         "0.0",
         "0.0",
         "0.2",
         "2.9",
         "-12.6",
         "15.2",
         "-0.1",
         "0.0",
         "8.4",
         "-10.0",
         "0.0",
         "0.0",
         "0.6",
         "5.9",
         "-3.9",
         "52.7",
         "-0.3",
         "0.0",
         "15.2",
         "-8.4",
         "0.0",
         "0.0",
         "0.9",
         "5.1",
         "17.7",
         "70.7",
         "-0.4",
         "0.0",
         "13.5",
         "-4.0",
         "0.0",
         "0.0",
         "0.9",
         "3.9",
         "25.5",
         "62.9",
         "-0.3",
         "0.0",
         "9.0",
         "-0.9",
         "0.0",
         "0.0",
         "0.9",
         "2.9",
         "23.3",
         "49.4",
         "8"
        ],
        [
         "1",
         "56",
         "1",
         "165",
         "64",
         "81",
         "174",
         "401",
         "149",
         "39",
         "25",
         "37",
         "-17",
         "31",
         "?",
         "53",
         "0",
         "48",
         "0",
         "0",
         "0",
         "24",
         "0",
         "0",
         "0",
         "0",
         "0",
         "0",
         "0",
         "64",
         "0",
         "0",
         "0",
         "24",
         "0",
         "0",
         "0",
         "0",
         "0",
         "0",
         "32",
         "24",
         "0",
         "0",
         "0",
         "40",
         "0",
         "0",
         "0",
         "0",
         "0",
         "0",
         "48",
         "0",
         "0",
         "0",
         "0",
         "0",
         "0",
         "0",
         "0",
         "0",
         "0",
         "0",
         "0",
         "44",
         "20",
         "0",
         "0",
         "24",
         "0",
         "0",
         "0",
         "0",
         "0",
         "0",
         "0",
         "60",
         "0",
         "0",
         "0",
         "20",
         "0",
         "0",
         "0",
         "0",
         "0",
         "0",
         "0",
         "24",
         "52",
         "0",
         "0",
         "16",
         "0",
         "0",
         "0",
         "0",
         "0",
         "0",
         "0",
         "32",
         "52",
         "0",
         "0",
         "20",
         "0",
         "0",
         "0",
         "0",
         "0",
         "0",
         "0",
         "44",
         "48",
         "0",
         "0",
         "32",
         "0",
         "0",
         "0",
         "0",
         "0",
         "0",
         "0",
         "48",
         "44",
         "0",
         "0",
         "32",
         "0",
         "0",
         "0",
         "0",
         "0",
         "0",
         "0",
         "48",
         "40",
         "0",
         "0",
         "28",
         "0",
         "0",
         "0",
         "0",
         "0",
         "0",
         "0",
         "48",
         "0",
         "0",
         "0",
         "28",
         "0",
         "0",
         "0",
         "0",
         "0",
         "0",
         "-0.6",
         "0.0",
         "7.2",
         "0.0",
         "0.0",
         "0.0",
         "0.4",
         "1.5",
         "17.2",
         "26.5",
         "0.0",
         "0.0",
         "5.5",
         "0.0",
         "0.0",
         "0.0",
         "0.1",
         "1.7",
         "17.6",
         "29.5",
         "0.3",
         "-1.6",
         "0.9",
         "0.0",
         "0.0",
         "0.0",
         "-0.3",
         "0.4",
         "-1.5",
         "1.3",
         "0.1",
         "-6.4",
         "0.0",
         "0.0",
         "0.0",
         "0.0",
         "-0.3",
         "-1.6",
         "-15.3",
         "-25.5",
         "-0.3",
         "0.0",
         "4.2",
         "-0.9",
         "0.0",
         "0.0",
         "0.4",
         "0.7",
         "8.3",
         "12.3",
         "0.2",
         "0.0",
         "2.2",
         "0.0",
         "0.0",
         "0.0",
         "-0.2",
         "0.8",
         "6.6",
         "11.7",
         "0.4",
         "0.0",
         "1.0",
         "-8.8",
         "0.0",
         "0.0",
         "0.5",
         "-0.6",
         "-21.6",
         "-26.8",
         "0.4",
         "0.0",
         "2.6",
         "-7.9",
         "0.0",
         "0.0",
         "0.8",
         "2.0",
         "-16.4",
         "1.2",
         "0.0",
         "0.0",
         "5.8",
         "-7.7",
         "0.0",
         "0.0",
         "0.9",
         "3.8",
         "-5.7",
         "27.7",
         "-0.2",
         "0.0",
         "9.5",
         "-5.0",
         "0.0",
         "0.0",
         "0.5",
         "2.6",
         "11.8",
         "34.6",
         "-0.4",
         "0.0",
         "11.0",
         "-2.4",
         "0.0",
         "0.0",
         "0.4",
         "2.6",
         "21.6",
         "43.4",
         "-0.5",
         "0.0",
         "8.5",
         "0.0",
         "0.0",
         "0.0",
         "0.2",
         "2.1",
         "20.4",
         "38.8",
         "6"
        ],
        [
         "2",
         "54",
         "0",
         "172",
         "95",
         "138",
         "163",
         "386",
         "185",
         "102",
         "96",
         "34",
         "70",
         "66",
         "23",
         "75",
         "0",
         "40",
         "80",
         "0",
         "0",
         "24",
         "0",
         "0",
         "0",
         "0",
         "0",
         "0",
         "20",
         "56",
         "52",
         "0",
         "0",
         "40",
         "0",
         "0",
         "0",
         "0",
         "0",
         "0",
         "28",
         "116",
         "0",
         "0",
         "0",
         "52",
         "0",
         "0",
         "0",
         "0",
         "0",
         "0",
         "52",
         "64",
         "0",
         "0",
         "0",
         "88",
         "0",
         "0",
         "0",
         "0",
         "0",
         "0",
         "0",
         "36",
         "92",
         "0",
         "0",
         "24",
         "0",
         "0",
         "0",
         "0",
         "0",
         "0",
         "0",
         "128",
         "0",
         "0",
         "0",
         "24",
         "0",
         "1",
         "0",
         "0",
         "0",
         "0",
         "0",
         "24",
         "36",
         "76",
         "0",
         "100",
         "0",
         "0",
         "0",
         "0",
         "0",
         "0",
         "0",
         "40",
         "28",
         "60",
         "0",
         "96",
         "0",
         "0",
         "0",
         "0",
         "0",
         "0",
         "0",
         "48",
         "20",
         "56",
         "24",
         "32",
         "0",
         "0",
         "0",
         "0",
         "0",
         "0",
         "0",
         "44",
         "88",
         "0",
         "0",
         "28",
         "0",
         "0",
         "0",
         "0",
         "0",
         "0",
         "0",
         "44",
         "76",
         "0",
         "0",
         "28",
         "0",
         "0",
         "0",
         "0",
         "0",
         "0",
         "0",
         "44",
         "72",
         "0",
         "0",
         "24",
         "0",
         "0",
         "0",
         "0",
         "0",
         "0",
         "1.0",
         "0.0",
         "4.5",
         "-2.8",
         "0.0",
         "0.0",
         "0.3",
         "2.5",
         "-2.2",
         "19.8",
         "0.8",
         "-0.4",
         "6.4",
         "-1.3",
         "0.0",
         "0.0",
         "0.7",
         "2.7",
         "14.2",
         "37.9",
         "-0.2",
         "-0.6",
         "4.4",
         "0.0",
         "0.0",
         "0.0",
         "0.5",
         "0.2",
         "24.7",
         "26.2",
         "-1.0",
         "-5.3",
         "1.8",
         "0.0",
         "0.0",
         "0.0",
         "-0.5",
         "-2.5",
         "-8.0",
         "-28.5",
         "0.5",
         "0.0",
         "1.7",
         "-2.7",
         "0.0",
         "0.0",
         "-0.2",
         "1.0",
         "-9.4",
         "-1.2",
         "0.4",
         "0.0",
         "4.9",
         "0.0",
         "0.0",
         "0.0",
         "0.6",
         "1.4",
         "31.3",
         "42.7",
         "-0.8",
         "0.0",
         "0.7",
         "-3.8",
         "6.5",
         "0.0",
         "0.3",
         "-3.3",
         "18.7",
         "-13.6",
         "-0.9",
         "0.0",
         "2.2",
         "-4.1",
         "7.4",
         "0.0",
         "0.5",
         "-2.4",
         "20.9",
         "-2.6",
         "0.0",
         "0.0",
         "5.8",
         "-4.1",
         "4.0",
         "-0.5",
         "0.4",
         "0.3",
         "20.4",
         "23.3",
         "0.7",
         "0.0",
         "10.0",
         "-5.7",
         "0.0",
         "0.0",
         "0.5",
         "2.2",
         "-3.0",
         "20.7",
         "1.3",
         "0.0",
         "11.1",
         "-3.4",
         "0.0",
         "0.0",
         "0.4",
         "3.4",
         "11.5",
         "48.2",
         "0.9",
         "0.0",
         "9.5",
         "-2.4",
         "0.0",
         "0.0",
         "0.3",
         "3.4",
         "12.3",
         "49.0",
         "10"
        ],
        [
         "3",
         "55",
         "0",
         "175",
         "94",
         "100",
         "202",
         "380",
         "179",
         "143",
         "28",
         "11",
         "-5",
         "20",
         "?",
         "71",
         "0",
         "72",
         "20",
         "0",
         "0",
         "48",
         "0",
         "0",
         "0",
         "0",
         "0",
         "0",
         "0",
         "64",
         "36",
         "0",
         "0",
         "36",
         "0",
         "0",
         "0",
         "0",
         "0",
         "0",
         "20",
         "52",
         "48",
         "0",
         "0",
         "56",
         "0",
         "0",
         "0",
         "0",
         "0",
         "0",
         "64",
         "32",
         "0",
         "0",
         "0",
         "72",
         "0",
         "0",
         "0",
         "0",
         "0",
         "0",
         "0",
         "60",
         "12",
         "0",
         "0",
         "44",
         "0",
         "0",
         "0",
         "0",
         "0",
         "0",
         "0",
         "60",
         "44",
         "0",
         "0",
         "32",
         "0",
         "0",
         "0",
         "0",
         "0",
         "0",
         "56",
         "0",
         "0",
         "0",
         "0",
         "0",
         "0",
         "0",
         "0",
         "0",
         "0",
         "0",
         "0",
         "40",
         "44",
         "0",
         "0",
         "20",
         "0",
         "0",
         "0",
         "0",
         "0",
         "0",
         "0",
         "52",
         "40",
         "0",
         "0",
         "32",
         "0",
         "0",
         "0",
         "0",
         "0",
         "0",
         "0",
         "56",
         "48",
         "0",
         "0",
         "36",
         "0",
         "0",
         "0",
         "0",
         "0",
         "0",
         "0",
         "60",
         "48",
         "0",
         "0",
         "36",
         "0",
         "0",
         "0",
         "0",
         "0",
         "0",
         "0",
         "64",
         "40",
         "0",
         "0",
         "40",
         "0",
         "0",
         "0",
         "0",
         "0",
         "0",
         "0.9",
         "0.0",
         "7.8",
         "-0.7",
         "0.0",
         "0.0",
         "1.1",
         "1.9",
         "27.3",
         "45.1",
         "0.1",
         "0.0",
         "9.1",
         "-2.6",
         "0.0",
         "0.0",
         "0.4",
         "1.5",
         "24.5",
         "36.8",
         "-0.4",
         "-0.4",
         "1.6",
         "-2.2",
         "0.0",
         "0.0",
         "-1.0",
         "-0.9",
         "-1.5",
         "-9.2",
         "-0.4",
         "-8.2",
         "1.8",
         "0.0",
         "0.0",
         "0.0",
         "-0.7",
         "-1.7",
         "-23.4",
         "-35.6",
         "0.9",
         "0.0",
         "3.2",
         "-0.4",
         "0.0",
         "0.0",
         "0.7",
         "1.2",
         "9.4",
         "18.0",
         "-0.1",
         "0.0",
         "5.1",
         "-2.5",
         "0.0",
         "0.0",
         "0.3",
         "0.6",
         "9.8",
         "12.6",
         "1.6",
         "-6.5",
         "0.0",
         "0.0",
         "0.0",
         "0.0",
         "-0.4",
         "-0.4",
         "-18.2",
         "-22.4",
         "2.1",
         "0.0",
         "1.2",
         "-6.9",
         "0.0",
         "0.0",
         "-0.5",
         "2.9",
         "-12.7",
         "18.0",
         "0.7",
         "0.0",
         "9.0",
         "-7.9",
         "0.0",
         "0.0",
         "0.1",
         "4.1",
         "7.6",
         "51.0",
         "0.4",
         "0.0",
         "15.0",
         "-5.5",
         "0.0",
         "0.0",
         "0.1",
         "3.3",
         "28.8",
         "63.1",
         "0.1",
         "0.0",
         "15.2",
         "-3.7",
         "0.0",
         "0.0",
         "0.6",
         "3.0",
         "36.8",
         "68.0",
         "0.1",
         "0.0",
         "12.2",
         "-2.2",
         "0.0",
         "0.0",
         "0.4",
         "2.6",
         "34.6",
         "61.6",
         "1"
        ]
       ],
       "shape": {
        "columns": 280,
        "rows": 4
       }
      },
      "text/html": [
       "<div>\n",
       "<style scoped>\n",
       "    .dataframe tbody tr th:only-of-type {\n",
       "        vertical-align: middle;\n",
       "    }\n",
       "\n",
       "    .dataframe tbody tr th {\n",
       "        vertical-align: top;\n",
       "    }\n",
       "\n",
       "    .dataframe thead th {\n",
       "        text-align: right;\n",
       "    }\n",
       "</style>\n",
       "<table border=\"1\" class=\"dataframe\">\n",
       "  <thead>\n",
       "    <tr style=\"text-align: right;\">\n",
       "      <th></th>\n",
       "      <th>age</th>\n",
       "      <th>sex</th>\n",
       "      <th>height</th>\n",
       "      <th>weight</th>\n",
       "      <th>qrs_duration</th>\n",
       "      <th>pr_interval</th>\n",
       "      <th>qt_interval</th>\n",
       "      <th>t_interval</th>\n",
       "      <th>p_interval</th>\n",
       "      <th>qrs_angle</th>\n",
       "      <th>...</th>\n",
       "      <th>q_amp_V3</th>\n",
       "      <th>r_amp_V3</th>\n",
       "      <th>s_amp_V3</th>\n",
       "      <th>r'_amp_V3</th>\n",
       "      <th>s'_amp_V3</th>\n",
       "      <th>p_amp_V3</th>\n",
       "      <th>t_amp_V3</th>\n",
       "      <th>qrsa_V3</th>\n",
       "      <th>qrsta_V3</th>\n",
       "      <th>jj_amp_V4</th>\n",
       "    </tr>\n",
       "  </thead>\n",
       "  <tbody>\n",
       "    <tr>\n",
       "      <th>0</th>\n",
       "      <td>75</td>\n",
       "      <td>0</td>\n",
       "      <td>190</td>\n",
       "      <td>80</td>\n",
       "      <td>91</td>\n",
       "      <td>193</td>\n",
       "      <td>371</td>\n",
       "      <td>174</td>\n",
       "      <td>121</td>\n",
       "      <td>-16</td>\n",
       "      <td>...</td>\n",
       "      <td>0.0</td>\n",
       "      <td>9.0</td>\n",
       "      <td>-0.9</td>\n",
       "      <td>0.0</td>\n",
       "      <td>0.0</td>\n",
       "      <td>0.9</td>\n",
       "      <td>2.9</td>\n",
       "      <td>23.3</td>\n",
       "      <td>49.4</td>\n",
       "      <td>8</td>\n",
       "    </tr>\n",
       "    <tr>\n",
       "      <th>1</th>\n",
       "      <td>56</td>\n",
       "      <td>1</td>\n",
       "      <td>165</td>\n",
       "      <td>64</td>\n",
       "      <td>81</td>\n",
       "      <td>174</td>\n",
       "      <td>401</td>\n",
       "      <td>149</td>\n",
       "      <td>39</td>\n",
       "      <td>25</td>\n",
       "      <td>...</td>\n",
       "      <td>0.0</td>\n",
       "      <td>8.5</td>\n",
       "      <td>0.0</td>\n",
       "      <td>0.0</td>\n",
       "      <td>0.0</td>\n",
       "      <td>0.2</td>\n",
       "      <td>2.1</td>\n",
       "      <td>20.4</td>\n",
       "      <td>38.8</td>\n",
       "      <td>6</td>\n",
       "    </tr>\n",
       "    <tr>\n",
       "      <th>2</th>\n",
       "      <td>54</td>\n",
       "      <td>0</td>\n",
       "      <td>172</td>\n",
       "      <td>95</td>\n",
       "      <td>138</td>\n",
       "      <td>163</td>\n",
       "      <td>386</td>\n",
       "      <td>185</td>\n",
       "      <td>102</td>\n",
       "      <td>96</td>\n",
       "      <td>...</td>\n",
       "      <td>0.0</td>\n",
       "      <td>9.5</td>\n",
       "      <td>-2.4</td>\n",
       "      <td>0.0</td>\n",
       "      <td>0.0</td>\n",
       "      <td>0.3</td>\n",
       "      <td>3.4</td>\n",
       "      <td>12.3</td>\n",
       "      <td>49.0</td>\n",
       "      <td>10</td>\n",
       "    </tr>\n",
       "    <tr>\n",
       "      <th>3</th>\n",
       "      <td>55</td>\n",
       "      <td>0</td>\n",
       "      <td>175</td>\n",
       "      <td>94</td>\n",
       "      <td>100</td>\n",
       "      <td>202</td>\n",
       "      <td>380</td>\n",
       "      <td>179</td>\n",
       "      <td>143</td>\n",
       "      <td>28</td>\n",
       "      <td>...</td>\n",
       "      <td>0.0</td>\n",
       "      <td>12.2</td>\n",
       "      <td>-2.2</td>\n",
       "      <td>0.0</td>\n",
       "      <td>0.0</td>\n",
       "      <td>0.4</td>\n",
       "      <td>2.6</td>\n",
       "      <td>34.6</td>\n",
       "      <td>61.6</td>\n",
       "      <td>1</td>\n",
       "    </tr>\n",
       "  </tbody>\n",
       "</table>\n",
       "<p>4 rows × 280 columns</p>\n",
       "</div>"
      ],
      "text/plain": [
       "   age  sex  height  weight  qrs_duration  pr_interval  qt_interval  \\\n",
       "0   75    0     190      80            91          193          371   \n",
       "1   56    1     165      64            81          174          401   \n",
       "2   54    0     172      95           138          163          386   \n",
       "3   55    0     175      94           100          202          380   \n",
       "\n",
       "   t_interval  p_interval  qrs_angle  ... q_amp_V3 r_amp_V3 s_amp_V3  \\\n",
       "0         174         121        -16  ...      0.0      9.0     -0.9   \n",
       "1         149          39         25  ...      0.0      8.5      0.0   \n",
       "2         185         102         96  ...      0.0      9.5     -2.4   \n",
       "3         179         143         28  ...      0.0     12.2     -2.2   \n",
       "\n",
       "  r'_amp_V3 s'_amp_V3  p_amp_V3  t_amp_V3  qrsa_V3  qrsta_V3  jj_amp_V4  \n",
       "0       0.0       0.0       0.9       2.9     23.3      49.4          8  \n",
       "1       0.0       0.0       0.2       2.1     20.4      38.8          6  \n",
       "2       0.0       0.0       0.3       3.4     12.3      49.0         10  \n",
       "3       0.0       0.0       0.4       2.6     34.6      61.6          1  \n",
       "\n",
       "[4 rows x 280 columns]"
      ]
     },
     "execution_count": 15,
     "metadata": {},
     "output_type": "execute_result"
    }
   ],
   "source": [
    "data.head(4)"
   ]
  },
  {
   "cell_type": "code",
   "execution_count": 16,
   "id": "aef7d930",
   "metadata": {},
   "outputs": [],
   "source": [
    "data.to_csv(r\"../data/arrhythmia_with_columns.csv\", index=False)"
   ]
  }
 ],
 "metadata": {
  "kernelspec": {
   "display_name": "Python 3",
   "language": "python",
   "name": "python3"
  },
  "language_info": {
   "codemirror_mode": {
    "name": "ipython",
    "version": 3
   },
   "file_extension": ".py",
   "mimetype": "text/x-python",
   "name": "python",
   "nbconvert_exporter": "python",
   "pygments_lexer": "ipython3",
   "version": "3.12.4"
  }
 },
 "nbformat": 4,
 "nbformat_minor": 5
}
